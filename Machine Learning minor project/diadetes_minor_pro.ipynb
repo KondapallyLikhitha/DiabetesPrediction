{
  "metadata": {
    "kernelspec": {
      "language": "python",
      "display_name": "Python 3",
      "name": "python3"
    },
    "language_info": {
      "pygments_lexer": "ipython3",
      "nbconvert_exporter": "python",
      "version": "3.6.4",
      "file_extension": ".py",
      "codemirror_mode": {
        "name": "ipython",
        "version": 3
      },
      "name": "python",
      "mimetype": "text/x-python"
    },
    "colab": {
      "name": "diadetes_minor_pro.ipynb",
      "provenance": [],
      "collapsed_sections": [
        "WzUPcYd21sGY",
        "-hwypYMO1sGY",
        "-hKsczKz1sGa",
        "3iwxnUUG1sGb",
        "cVmCCNHl1sGc",
        "sfATEt1r1sGc",
        "hVMX45DH1sGd"
      ]
    }
  },
  "nbformat_minor": 0,
  "nbformat": 4,
  "cells": [
    {
      "cell_type": "markdown",
      "source": [
        "# Import Libraries\n"
      ],
      "metadata": {
        "id": "h20Iq1TQ1sGL"
      }
    },
    {
      "cell_type": "code",
      "source": [
        "import numpy as np\n",
        "import pandas as pd\n",
        "import matplotlib.pyplot as plt\n",
        "import seaborn as sns\n",
        "\n",
        "from sklearn.preprocessing import StandardScaler\n",
        "from sklearn.model_selection import train_test_split\n",
        "from sklearn.neighbors import KNeighborsClassifier\n",
        "from sklearn.linear_model import LogisticRegression\n",
        "from sklearn.ensemble import RandomForestClassifier\n",
        "from sklearn.tree import DecisionTreeClassifier\n",
        "from sklearn import metrics\n",
        "from sklearn.metrics import accuracy_score\n",
        "from sklearn.metrics import confusion_matrix, classification_report, plot_confusion_matrix\n",
        "from sklearn.metrics import f1_score\n",
        "\n",
        "from imblearn.over_sampling import SMOTE #to correct skewness"
      ],
      "metadata": {
        "execution": {
          "iopub.status.busy": "2021-12-19T06:11:36.827371Z",
          "iopub.execute_input": "2021-12-19T06:11:36.82787Z",
          "iopub.status.idle": "2021-12-19T06:11:37.434208Z",
          "shell.execute_reply.started": "2021-12-19T06:11:36.827754Z",
          "shell.execute_reply": "2021-12-19T06:11:37.433572Z"
        },
        "trusted": true,
        "id": "x2WF5B471sGR"
      },
      "execution_count": null,
      "outputs": []
    },
    {
      "cell_type": "code",
      "source": [
        "file = pd.read_csv(r\"/content/drive/MyDrive/ML/diabetes[47].csv\") #uplaoding data"
      ],
      "metadata": {
        "execution": {
          "iopub.status.busy": "2021-12-19T06:11:37.435168Z",
          "iopub.execute_input": "2021-12-19T06:11:37.435945Z",
          "iopub.status.idle": "2021-12-19T06:11:37.44967Z",
          "shell.execute_reply.started": "2021-12-19T06:11:37.435896Z",
          "shell.execute_reply": "2021-12-19T06:11:37.448452Z"
        },
        "trusted": true,
        "id": "nU26lmrO1sGT"
      },
      "execution_count": null,
      "outputs": []
    },
    {
      "cell_type": "code",
      "source": [
        "from google.colab import drive\n",
        "drive.mount('/content/drive')"
      ],
      "metadata": {
        "colab": {
          "base_uri": "https://localhost:8080/"
        },
        "id": "Pk3RnZpz1zXt",
        "outputId": "87b2d476-5420-4869-b113-96b5fca2e30e"
      },
      "execution_count": null,
      "outputs": [
        {
          "output_type": "stream",
          "name": "stdout",
          "text": [
            "Drive already mounted at /content/drive; to attempt to forcibly remount, call drive.mount(\"/content/drive\", force_remount=True).\n"
          ]
        }
      ]
    },
    {
      "cell_type": "code",
      "source": [
        "file.head()"
      ],
      "metadata": {
        "execution": {
          "iopub.status.busy": "2021-12-19T06:11:37.45076Z",
          "iopub.execute_input": "2021-12-19T06:11:37.451669Z",
          "iopub.status.idle": "2021-12-19T06:11:37.469911Z",
          "shell.execute_reply.started": "2021-12-19T06:11:37.451629Z",
          "shell.execute_reply": "2021-12-19T06:11:37.469069Z"
        },
        "trusted": true,
        "colab": {
          "base_uri": "https://localhost:8080/",
          "height": 270
        },
        "id": "l0n_1rjO1sGU",
        "outputId": "4f2cc68e-7617-4225-a818-9e5f938fb733"
      },
      "execution_count": null,
      "outputs": [
        {
          "output_type": "execute_result",
          "data": {
            "text/html": [
              "\n",
              "  <div id=\"df-48382b25-8d0b-4824-8ba6-15640fc59f19\">\n",
              "    <div class=\"colab-df-container\">\n",
              "      <div>\n",
              "<style scoped>\n",
              "    .dataframe tbody tr th:only-of-type {\n",
              "        vertical-align: middle;\n",
              "    }\n",
              "\n",
              "    .dataframe tbody tr th {\n",
              "        vertical-align: top;\n",
              "    }\n",
              "\n",
              "    .dataframe thead th {\n",
              "        text-align: right;\n",
              "    }\n",
              "</style>\n",
              "<table border=\"1\" class=\"dataframe\">\n",
              "  <thead>\n",
              "    <tr style=\"text-align: right;\">\n",
              "      <th></th>\n",
              "      <th>Pregnancies</th>\n",
              "      <th>Glucose</th>\n",
              "      <th>BloodPressure</th>\n",
              "      <th>SkinThickness</th>\n",
              "      <th>Insulin</th>\n",
              "      <th>BMI</th>\n",
              "      <th>DiabetesPedigreeFunction</th>\n",
              "      <th>Age</th>\n",
              "      <th>Outcome</th>\n",
              "    </tr>\n",
              "  </thead>\n",
              "  <tbody>\n",
              "    <tr>\n",
              "      <th>0</th>\n",
              "      <td>6</td>\n",
              "      <td>148</td>\n",
              "      <td>72</td>\n",
              "      <td>35</td>\n",
              "      <td>0</td>\n",
              "      <td>33.6</td>\n",
              "      <td>0.627</td>\n",
              "      <td>50</td>\n",
              "      <td>1</td>\n",
              "    </tr>\n",
              "    <tr>\n",
              "      <th>1</th>\n",
              "      <td>1</td>\n",
              "      <td>85</td>\n",
              "      <td>66</td>\n",
              "      <td>29</td>\n",
              "      <td>0</td>\n",
              "      <td>26.6</td>\n",
              "      <td>0.351</td>\n",
              "      <td>31</td>\n",
              "      <td>0</td>\n",
              "    </tr>\n",
              "    <tr>\n",
              "      <th>2</th>\n",
              "      <td>8</td>\n",
              "      <td>183</td>\n",
              "      <td>64</td>\n",
              "      <td>0</td>\n",
              "      <td>0</td>\n",
              "      <td>23.3</td>\n",
              "      <td>0.672</td>\n",
              "      <td>32</td>\n",
              "      <td>1</td>\n",
              "    </tr>\n",
              "    <tr>\n",
              "      <th>3</th>\n",
              "      <td>1</td>\n",
              "      <td>89</td>\n",
              "      <td>66</td>\n",
              "      <td>23</td>\n",
              "      <td>94</td>\n",
              "      <td>28.1</td>\n",
              "      <td>0.167</td>\n",
              "      <td>21</td>\n",
              "      <td>0</td>\n",
              "    </tr>\n",
              "    <tr>\n",
              "      <th>4</th>\n",
              "      <td>0</td>\n",
              "      <td>137</td>\n",
              "      <td>40</td>\n",
              "      <td>35</td>\n",
              "      <td>168</td>\n",
              "      <td>43.1</td>\n",
              "      <td>2.288</td>\n",
              "      <td>33</td>\n",
              "      <td>1</td>\n",
              "    </tr>\n",
              "  </tbody>\n",
              "</table>\n",
              "</div>\n",
              "      <button class=\"colab-df-convert\" onclick=\"convertToInteractive('df-48382b25-8d0b-4824-8ba6-15640fc59f19')\"\n",
              "              title=\"Convert this dataframe to an interactive table.\"\n",
              "              style=\"display:none;\">\n",
              "        \n",
              "  <svg xmlns=\"http://www.w3.org/2000/svg\" height=\"24px\"viewBox=\"0 0 24 24\"\n",
              "       width=\"24px\">\n",
              "    <path d=\"M0 0h24v24H0V0z\" fill=\"none\"/>\n",
              "    <path d=\"M18.56 5.44l.94 2.06.94-2.06 2.06-.94-2.06-.94-.94-2.06-.94 2.06-2.06.94zm-11 1L8.5 8.5l.94-2.06 2.06-.94-2.06-.94L8.5 2.5l-.94 2.06-2.06.94zm10 10l.94 2.06.94-2.06 2.06-.94-2.06-.94-.94-2.06-.94 2.06-2.06.94z\"/><path d=\"M17.41 7.96l-1.37-1.37c-.4-.4-.92-.59-1.43-.59-.52 0-1.04.2-1.43.59L10.3 9.45l-7.72 7.72c-.78.78-.78 2.05 0 2.83L4 21.41c.39.39.9.59 1.41.59.51 0 1.02-.2 1.41-.59l7.78-7.78 2.81-2.81c.8-.78.8-2.07 0-2.86zM5.41 20L4 18.59l7.72-7.72 1.47 1.35L5.41 20z\"/>\n",
              "  </svg>\n",
              "      </button>\n",
              "      \n",
              "  <style>\n",
              "    .colab-df-container {\n",
              "      display:flex;\n",
              "      flex-wrap:wrap;\n",
              "      gap: 12px;\n",
              "    }\n",
              "\n",
              "    .colab-df-convert {\n",
              "      background-color: #E8F0FE;\n",
              "      border: none;\n",
              "      border-radius: 50%;\n",
              "      cursor: pointer;\n",
              "      display: none;\n",
              "      fill: #1967D2;\n",
              "      height: 32px;\n",
              "      padding: 0 0 0 0;\n",
              "      width: 32px;\n",
              "    }\n",
              "\n",
              "    .colab-df-convert:hover {\n",
              "      background-color: #E2EBFA;\n",
              "      box-shadow: 0px 1px 2px rgba(60, 64, 67, 0.3), 0px 1px 3px 1px rgba(60, 64, 67, 0.15);\n",
              "      fill: #174EA6;\n",
              "    }\n",
              "\n",
              "    [theme=dark] .colab-df-convert {\n",
              "      background-color: #3B4455;\n",
              "      fill: #D2E3FC;\n",
              "    }\n",
              "\n",
              "    [theme=dark] .colab-df-convert:hover {\n",
              "      background-color: #434B5C;\n",
              "      box-shadow: 0px 1px 3px 1px rgba(0, 0, 0, 0.15);\n",
              "      filter: drop-shadow(0px 1px 2px rgba(0, 0, 0, 0.3));\n",
              "      fill: #FFFFFF;\n",
              "    }\n",
              "  </style>\n",
              "\n",
              "      <script>\n",
              "        const buttonEl =\n",
              "          document.querySelector('#df-48382b25-8d0b-4824-8ba6-15640fc59f19 button.colab-df-convert');\n",
              "        buttonEl.style.display =\n",
              "          google.colab.kernel.accessAllowed ? 'block' : 'none';\n",
              "\n",
              "        async function convertToInteractive(key) {\n",
              "          const element = document.querySelector('#df-48382b25-8d0b-4824-8ba6-15640fc59f19');\n",
              "          const dataTable =\n",
              "            await google.colab.kernel.invokeFunction('convertToInteractive',\n",
              "                                                     [key], {});\n",
              "          if (!dataTable) return;\n",
              "\n",
              "          const docLinkHtml = 'Like what you see? Visit the ' +\n",
              "            '<a target=\"_blank\" href=https://colab.research.google.com/notebooks/data_table.ipynb>data table notebook</a>'\n",
              "            + ' to learn more about interactive tables.';\n",
              "          element.innerHTML = '';\n",
              "          dataTable['output_type'] = 'display_data';\n",
              "          await google.colab.output.renderOutput(dataTable, element);\n",
              "          const docLink = document.createElement('div');\n",
              "          docLink.innerHTML = docLinkHtml;\n",
              "          element.appendChild(docLink);\n",
              "        }\n",
              "      </script>\n",
              "    </div>\n",
              "  </div>\n",
              "  "
            ],
            "text/plain": [
              "   Pregnancies  Glucose  BloodPressure  ...  DiabetesPedigreeFunction  Age  Outcome\n",
              "0            6      148             72  ...                     0.627   50        1\n",
              "1            1       85             66  ...                     0.351   31        0\n",
              "2            8      183             64  ...                     0.672   32        1\n",
              "3            1       89             66  ...                     0.167   21        0\n",
              "4            0      137             40  ...                     2.288   33        1\n",
              "\n",
              "[5 rows x 9 columns]"
            ]
          },
          "metadata": {},
          "execution_count": 17
        }
      ]
    },
    {
      "cell_type": "code",
      "source": [
        "file.shape"
      ],
      "metadata": {
        "execution": {
          "iopub.status.busy": "2021-12-19T06:11:37.472661Z",
          "iopub.execute_input": "2021-12-19T06:11:37.472905Z",
          "iopub.status.idle": "2021-12-19T06:11:37.478043Z",
          "shell.execute_reply.started": "2021-12-19T06:11:37.472875Z",
          "shell.execute_reply": "2021-12-19T06:11:37.477476Z"
        },
        "trusted": true,
        "colab": {
          "base_uri": "https://localhost:8080/"
        },
        "id": "q7omY1bQ1sGU",
        "outputId": "469dd138-69c0-4a14-cc5d-e4b8e24f9ea8"
      },
      "execution_count": null,
      "outputs": [
        {
          "output_type": "execute_result",
          "data": {
            "text/plain": [
              "(768, 9)"
            ]
          },
          "metadata": {},
          "execution_count": 18
        }
      ]
    },
    {
      "cell_type": "code",
      "source": [
        "file.describe()"
      ],
      "metadata": {
        "execution": {
          "iopub.status.busy": "2021-12-19T06:11:37.478918Z",
          "iopub.execute_input": "2021-12-19T06:11:37.479426Z",
          "iopub.status.idle": "2021-12-19T06:11:37.523909Z",
          "shell.execute_reply.started": "2021-12-19T06:11:37.479382Z",
          "shell.execute_reply": "2021-12-19T06:11:37.522919Z"
        },
        "trusted": true,
        "colab": {
          "base_uri": "https://localhost:8080/",
          "height": 364
        },
        "id": "mz-WP2xh1sGU",
        "outputId": "0ac537e0-6c4f-457f-851e-656f3470ea38"
      },
      "execution_count": null,
      "outputs": [
        {
          "output_type": "execute_result",
          "data": {
            "text/html": [
              "\n",
              "  <div id=\"df-8c4d3f25-a67f-41c2-894d-ce7d79262e39\">\n",
              "    <div class=\"colab-df-container\">\n",
              "      <div>\n",
              "<style scoped>\n",
              "    .dataframe tbody tr th:only-of-type {\n",
              "        vertical-align: middle;\n",
              "    }\n",
              "\n",
              "    .dataframe tbody tr th {\n",
              "        vertical-align: top;\n",
              "    }\n",
              "\n",
              "    .dataframe thead th {\n",
              "        text-align: right;\n",
              "    }\n",
              "</style>\n",
              "<table border=\"1\" class=\"dataframe\">\n",
              "  <thead>\n",
              "    <tr style=\"text-align: right;\">\n",
              "      <th></th>\n",
              "      <th>Pregnancies</th>\n",
              "      <th>Glucose</th>\n",
              "      <th>BloodPressure</th>\n",
              "      <th>SkinThickness</th>\n",
              "      <th>Insulin</th>\n",
              "      <th>BMI</th>\n",
              "      <th>DiabetesPedigreeFunction</th>\n",
              "      <th>Age</th>\n",
              "      <th>Outcome</th>\n",
              "    </tr>\n",
              "  </thead>\n",
              "  <tbody>\n",
              "    <tr>\n",
              "      <th>count</th>\n",
              "      <td>768.000000</td>\n",
              "      <td>768.000000</td>\n",
              "      <td>768.000000</td>\n",
              "      <td>768.000000</td>\n",
              "      <td>768.000000</td>\n",
              "      <td>768.000000</td>\n",
              "      <td>768.000000</td>\n",
              "      <td>768.000000</td>\n",
              "      <td>768.000000</td>\n",
              "    </tr>\n",
              "    <tr>\n",
              "      <th>mean</th>\n",
              "      <td>3.845052</td>\n",
              "      <td>120.894531</td>\n",
              "      <td>69.105469</td>\n",
              "      <td>20.536458</td>\n",
              "      <td>79.799479</td>\n",
              "      <td>31.992578</td>\n",
              "      <td>0.471876</td>\n",
              "      <td>33.240885</td>\n",
              "      <td>0.348958</td>\n",
              "    </tr>\n",
              "    <tr>\n",
              "      <th>std</th>\n",
              "      <td>3.369578</td>\n",
              "      <td>31.972618</td>\n",
              "      <td>19.355807</td>\n",
              "      <td>15.952218</td>\n",
              "      <td>115.244002</td>\n",
              "      <td>7.884160</td>\n",
              "      <td>0.331329</td>\n",
              "      <td>11.760232</td>\n",
              "      <td>0.476951</td>\n",
              "    </tr>\n",
              "    <tr>\n",
              "      <th>min</th>\n",
              "      <td>0.000000</td>\n",
              "      <td>0.000000</td>\n",
              "      <td>0.000000</td>\n",
              "      <td>0.000000</td>\n",
              "      <td>0.000000</td>\n",
              "      <td>0.000000</td>\n",
              "      <td>0.078000</td>\n",
              "      <td>21.000000</td>\n",
              "      <td>0.000000</td>\n",
              "    </tr>\n",
              "    <tr>\n",
              "      <th>25%</th>\n",
              "      <td>1.000000</td>\n",
              "      <td>99.000000</td>\n",
              "      <td>62.000000</td>\n",
              "      <td>0.000000</td>\n",
              "      <td>0.000000</td>\n",
              "      <td>27.300000</td>\n",
              "      <td>0.243750</td>\n",
              "      <td>24.000000</td>\n",
              "      <td>0.000000</td>\n",
              "    </tr>\n",
              "    <tr>\n",
              "      <th>50%</th>\n",
              "      <td>3.000000</td>\n",
              "      <td>117.000000</td>\n",
              "      <td>72.000000</td>\n",
              "      <td>23.000000</td>\n",
              "      <td>30.500000</td>\n",
              "      <td>32.000000</td>\n",
              "      <td>0.372500</td>\n",
              "      <td>29.000000</td>\n",
              "      <td>0.000000</td>\n",
              "    </tr>\n",
              "    <tr>\n",
              "      <th>75%</th>\n",
              "      <td>6.000000</td>\n",
              "      <td>140.250000</td>\n",
              "      <td>80.000000</td>\n",
              "      <td>32.000000</td>\n",
              "      <td>127.250000</td>\n",
              "      <td>36.600000</td>\n",
              "      <td>0.626250</td>\n",
              "      <td>41.000000</td>\n",
              "      <td>1.000000</td>\n",
              "    </tr>\n",
              "    <tr>\n",
              "      <th>max</th>\n",
              "      <td>17.000000</td>\n",
              "      <td>199.000000</td>\n",
              "      <td>122.000000</td>\n",
              "      <td>99.000000</td>\n",
              "      <td>846.000000</td>\n",
              "      <td>67.100000</td>\n",
              "      <td>2.420000</td>\n",
              "      <td>81.000000</td>\n",
              "      <td>1.000000</td>\n",
              "    </tr>\n",
              "  </tbody>\n",
              "</table>\n",
              "</div>\n",
              "      <button class=\"colab-df-convert\" onclick=\"convertToInteractive('df-8c4d3f25-a67f-41c2-894d-ce7d79262e39')\"\n",
              "              title=\"Convert this dataframe to an interactive table.\"\n",
              "              style=\"display:none;\">\n",
              "        \n",
              "  <svg xmlns=\"http://www.w3.org/2000/svg\" height=\"24px\"viewBox=\"0 0 24 24\"\n",
              "       width=\"24px\">\n",
              "    <path d=\"M0 0h24v24H0V0z\" fill=\"none\"/>\n",
              "    <path d=\"M18.56 5.44l.94 2.06.94-2.06 2.06-.94-2.06-.94-.94-2.06-.94 2.06-2.06.94zm-11 1L8.5 8.5l.94-2.06 2.06-.94-2.06-.94L8.5 2.5l-.94 2.06-2.06.94zm10 10l.94 2.06.94-2.06 2.06-.94-2.06-.94-.94-2.06-.94 2.06-2.06.94z\"/><path d=\"M17.41 7.96l-1.37-1.37c-.4-.4-.92-.59-1.43-.59-.52 0-1.04.2-1.43.59L10.3 9.45l-7.72 7.72c-.78.78-.78 2.05 0 2.83L4 21.41c.39.39.9.59 1.41.59.51 0 1.02-.2 1.41-.59l7.78-7.78 2.81-2.81c.8-.78.8-2.07 0-2.86zM5.41 20L4 18.59l7.72-7.72 1.47 1.35L5.41 20z\"/>\n",
              "  </svg>\n",
              "      </button>\n",
              "      \n",
              "  <style>\n",
              "    .colab-df-container {\n",
              "      display:flex;\n",
              "      flex-wrap:wrap;\n",
              "      gap: 12px;\n",
              "    }\n",
              "\n",
              "    .colab-df-convert {\n",
              "      background-color: #E8F0FE;\n",
              "      border: none;\n",
              "      border-radius: 50%;\n",
              "      cursor: pointer;\n",
              "      display: none;\n",
              "      fill: #1967D2;\n",
              "      height: 32px;\n",
              "      padding: 0 0 0 0;\n",
              "      width: 32px;\n",
              "    }\n",
              "\n",
              "    .colab-df-convert:hover {\n",
              "      background-color: #E2EBFA;\n",
              "      box-shadow: 0px 1px 2px rgba(60, 64, 67, 0.3), 0px 1px 3px 1px rgba(60, 64, 67, 0.15);\n",
              "      fill: #174EA6;\n",
              "    }\n",
              "\n",
              "    [theme=dark] .colab-df-convert {\n",
              "      background-color: #3B4455;\n",
              "      fill: #D2E3FC;\n",
              "    }\n",
              "\n",
              "    [theme=dark] .colab-df-convert:hover {\n",
              "      background-color: #434B5C;\n",
              "      box-shadow: 0px 1px 3px 1px rgba(0, 0, 0, 0.15);\n",
              "      filter: drop-shadow(0px 1px 2px rgba(0, 0, 0, 0.3));\n",
              "      fill: #FFFFFF;\n",
              "    }\n",
              "  </style>\n",
              "\n",
              "      <script>\n",
              "        const buttonEl =\n",
              "          document.querySelector('#df-8c4d3f25-a67f-41c2-894d-ce7d79262e39 button.colab-df-convert');\n",
              "        buttonEl.style.display =\n",
              "          google.colab.kernel.accessAllowed ? 'block' : 'none';\n",
              "\n",
              "        async function convertToInteractive(key) {\n",
              "          const element = document.querySelector('#df-8c4d3f25-a67f-41c2-894d-ce7d79262e39');\n",
              "          const dataTable =\n",
              "            await google.colab.kernel.invokeFunction('convertToInteractive',\n",
              "                                                     [key], {});\n",
              "          if (!dataTable) return;\n",
              "\n",
              "          const docLinkHtml = 'Like what you see? Visit the ' +\n",
              "            '<a target=\"_blank\" href=https://colab.research.google.com/notebooks/data_table.ipynb>data table notebook</a>'\n",
              "            + ' to learn more about interactive tables.';\n",
              "          element.innerHTML = '';\n",
              "          dataTable['output_type'] = 'display_data';\n",
              "          await google.colab.output.renderOutput(dataTable, element);\n",
              "          const docLink = document.createElement('div');\n",
              "          docLink.innerHTML = docLinkHtml;\n",
              "          element.appendChild(docLink);\n",
              "        }\n",
              "      </script>\n",
              "    </div>\n",
              "  </div>\n",
              "  "
            ],
            "text/plain": [
              "       Pregnancies     Glucose  ...         Age     Outcome\n",
              "count   768.000000  768.000000  ...  768.000000  768.000000\n",
              "mean      3.845052  120.894531  ...   33.240885    0.348958\n",
              "std       3.369578   31.972618  ...   11.760232    0.476951\n",
              "min       0.000000    0.000000  ...   21.000000    0.000000\n",
              "25%       1.000000   99.000000  ...   24.000000    0.000000\n",
              "50%       3.000000  117.000000  ...   29.000000    0.000000\n",
              "75%       6.000000  140.250000  ...   41.000000    1.000000\n",
              "max      17.000000  199.000000  ...   81.000000    1.000000\n",
              "\n",
              "[8 rows x 9 columns]"
            ]
          },
          "metadata": {},
          "execution_count": 19
        }
      ]
    },
    {
      "cell_type": "code",
      "source": [
        "file['Outcome'].value_counts()\n",
        "#unstructured\n",
        "#more values for non diabetic than diabetic"
      ],
      "metadata": {
        "execution": {
          "iopub.status.busy": "2021-12-19T06:11:37.525289Z",
          "iopub.execute_input": "2021-12-19T06:11:37.525621Z",
          "iopub.status.idle": "2021-12-19T06:11:37.531979Z",
          "shell.execute_reply.started": "2021-12-19T06:11:37.525565Z",
          "shell.execute_reply": "2021-12-19T06:11:37.531445Z"
        },
        "trusted": true,
        "colab": {
          "base_uri": "https://localhost:8080/"
        },
        "id": "VrZiQaBY1sGV",
        "outputId": "0aa2bb88-d3f4-4dcf-9a4e-ee26f4ade5e5"
      },
      "execution_count": null,
      "outputs": [
        {
          "output_type": "execute_result",
          "data": {
            "text/plain": [
              "0    500\n",
              "1    268\n",
              "Name: Outcome, dtype: int64"
            ]
          },
          "metadata": {},
          "execution_count": 20
        }
      ]
    },
    {
      "cell_type": "code",
      "source": [
        "file.groupby('Outcome').mean()"
      ],
      "metadata": {
        "scrolled": true,
        "execution": {
          "iopub.status.busy": "2021-12-19T06:11:37.532941Z",
          "iopub.execute_input": "2021-12-19T06:11:37.533505Z",
          "iopub.status.idle": "2021-12-19T06:11:37.560854Z",
          "shell.execute_reply.started": "2021-12-19T06:11:37.533466Z",
          "shell.execute_reply": "2021-12-19T06:11:37.560218Z"
        },
        "trusted": true,
        "colab": {
          "base_uri": "https://localhost:8080/",
          "height": 207
        },
        "id": "tzXmdCot1sGV",
        "outputId": "77361f54-87e4-41d0-e9e4-01d1c9450225"
      },
      "execution_count": null,
      "outputs": [
        {
          "output_type": "execute_result",
          "data": {
            "text/html": [
              "\n",
              "  <div id=\"df-7eb32a5b-7ce7-4cf7-8798-65df52997a98\">\n",
              "    <div class=\"colab-df-container\">\n",
              "      <div>\n",
              "<style scoped>\n",
              "    .dataframe tbody tr th:only-of-type {\n",
              "        vertical-align: middle;\n",
              "    }\n",
              "\n",
              "    .dataframe tbody tr th {\n",
              "        vertical-align: top;\n",
              "    }\n",
              "\n",
              "    .dataframe thead th {\n",
              "        text-align: right;\n",
              "    }\n",
              "</style>\n",
              "<table border=\"1\" class=\"dataframe\">\n",
              "  <thead>\n",
              "    <tr style=\"text-align: right;\">\n",
              "      <th></th>\n",
              "      <th>Pregnancies</th>\n",
              "      <th>Glucose</th>\n",
              "      <th>BloodPressure</th>\n",
              "      <th>SkinThickness</th>\n",
              "      <th>Insulin</th>\n",
              "      <th>BMI</th>\n",
              "      <th>DiabetesPedigreeFunction</th>\n",
              "      <th>Age</th>\n",
              "    </tr>\n",
              "    <tr>\n",
              "      <th>Outcome</th>\n",
              "      <th></th>\n",
              "      <th></th>\n",
              "      <th></th>\n",
              "      <th></th>\n",
              "      <th></th>\n",
              "      <th></th>\n",
              "      <th></th>\n",
              "      <th></th>\n",
              "    </tr>\n",
              "  </thead>\n",
              "  <tbody>\n",
              "    <tr>\n",
              "      <th>0</th>\n",
              "      <td>3.298000</td>\n",
              "      <td>109.980000</td>\n",
              "      <td>68.184000</td>\n",
              "      <td>19.664000</td>\n",
              "      <td>68.792000</td>\n",
              "      <td>30.304200</td>\n",
              "      <td>0.429734</td>\n",
              "      <td>31.190000</td>\n",
              "    </tr>\n",
              "    <tr>\n",
              "      <th>1</th>\n",
              "      <td>4.865672</td>\n",
              "      <td>141.257463</td>\n",
              "      <td>70.824627</td>\n",
              "      <td>22.164179</td>\n",
              "      <td>100.335821</td>\n",
              "      <td>35.142537</td>\n",
              "      <td>0.550500</td>\n",
              "      <td>37.067164</td>\n",
              "    </tr>\n",
              "  </tbody>\n",
              "</table>\n",
              "</div>\n",
              "      <button class=\"colab-df-convert\" onclick=\"convertToInteractive('df-7eb32a5b-7ce7-4cf7-8798-65df52997a98')\"\n",
              "              title=\"Convert this dataframe to an interactive table.\"\n",
              "              style=\"display:none;\">\n",
              "        \n",
              "  <svg xmlns=\"http://www.w3.org/2000/svg\" height=\"24px\"viewBox=\"0 0 24 24\"\n",
              "       width=\"24px\">\n",
              "    <path d=\"M0 0h24v24H0V0z\" fill=\"none\"/>\n",
              "    <path d=\"M18.56 5.44l.94 2.06.94-2.06 2.06-.94-2.06-.94-.94-2.06-.94 2.06-2.06.94zm-11 1L8.5 8.5l.94-2.06 2.06-.94-2.06-.94L8.5 2.5l-.94 2.06-2.06.94zm10 10l.94 2.06.94-2.06 2.06-.94-2.06-.94-.94-2.06-.94 2.06-2.06.94z\"/><path d=\"M17.41 7.96l-1.37-1.37c-.4-.4-.92-.59-1.43-.59-.52 0-1.04.2-1.43.59L10.3 9.45l-7.72 7.72c-.78.78-.78 2.05 0 2.83L4 21.41c.39.39.9.59 1.41.59.51 0 1.02-.2 1.41-.59l7.78-7.78 2.81-2.81c.8-.78.8-2.07 0-2.86zM5.41 20L4 18.59l7.72-7.72 1.47 1.35L5.41 20z\"/>\n",
              "  </svg>\n",
              "      </button>\n",
              "      \n",
              "  <style>\n",
              "    .colab-df-container {\n",
              "      display:flex;\n",
              "      flex-wrap:wrap;\n",
              "      gap: 12px;\n",
              "    }\n",
              "\n",
              "    .colab-df-convert {\n",
              "      background-color: #E8F0FE;\n",
              "      border: none;\n",
              "      border-radius: 50%;\n",
              "      cursor: pointer;\n",
              "      display: none;\n",
              "      fill: #1967D2;\n",
              "      height: 32px;\n",
              "      padding: 0 0 0 0;\n",
              "      width: 32px;\n",
              "    }\n",
              "\n",
              "    .colab-df-convert:hover {\n",
              "      background-color: #E2EBFA;\n",
              "      box-shadow: 0px 1px 2px rgba(60, 64, 67, 0.3), 0px 1px 3px 1px rgba(60, 64, 67, 0.15);\n",
              "      fill: #174EA6;\n",
              "    }\n",
              "\n",
              "    [theme=dark] .colab-df-convert {\n",
              "      background-color: #3B4455;\n",
              "      fill: #D2E3FC;\n",
              "    }\n",
              "\n",
              "    [theme=dark] .colab-df-convert:hover {\n",
              "      background-color: #434B5C;\n",
              "      box-shadow: 0px 1px 3px 1px rgba(0, 0, 0, 0.15);\n",
              "      filter: drop-shadow(0px 1px 2px rgba(0, 0, 0, 0.3));\n",
              "      fill: #FFFFFF;\n",
              "    }\n",
              "  </style>\n",
              "\n",
              "      <script>\n",
              "        const buttonEl =\n",
              "          document.querySelector('#df-7eb32a5b-7ce7-4cf7-8798-65df52997a98 button.colab-df-convert');\n",
              "        buttonEl.style.display =\n",
              "          google.colab.kernel.accessAllowed ? 'block' : 'none';\n",
              "\n",
              "        async function convertToInteractive(key) {\n",
              "          const element = document.querySelector('#df-7eb32a5b-7ce7-4cf7-8798-65df52997a98');\n",
              "          const dataTable =\n",
              "            await google.colab.kernel.invokeFunction('convertToInteractive',\n",
              "                                                     [key], {});\n",
              "          if (!dataTable) return;\n",
              "\n",
              "          const docLinkHtml = 'Like what you see? Visit the ' +\n",
              "            '<a target=\"_blank\" href=https://colab.research.google.com/notebooks/data_table.ipynb>data table notebook</a>'\n",
              "            + ' to learn more about interactive tables.';\n",
              "          element.innerHTML = '';\n",
              "          dataTable['output_type'] = 'display_data';\n",
              "          await google.colab.output.renderOutput(dataTable, element);\n",
              "          const docLink = document.createElement('div');\n",
              "          docLink.innerHTML = docLinkHtml;\n",
              "          element.appendChild(docLink);\n",
              "        }\n",
              "      </script>\n",
              "    </div>\n",
              "  </div>\n",
              "  "
            ],
            "text/plain": [
              "         Pregnancies     Glucose  ...  DiabetesPedigreeFunction        Age\n",
              "Outcome                           ...                                     \n",
              "0           3.298000  109.980000  ...                  0.429734  31.190000\n",
              "1           4.865672  141.257463  ...                  0.550500  37.067164\n",
              "\n",
              "[2 rows x 8 columns]"
            ]
          },
          "metadata": {},
          "execution_count": 21
        }
      ]
    },
    {
      "cell_type": "code",
      "source": [
        "def outliers(file):\n",
        "    for column_name in file.columns:\n",
        "        q1 = file[column_name].quantile(0.25)\n",
        "        q3 = file[column_name].quantile(0.75)\n",
        "        iqr = q3-q1\n",
        "        lower_limit = q1-1.5*iqr\n",
        "        upper_limit = q3+1.5*iqr\n",
        "        print(f\"{column_name}>>Lower_limit:{lower_limit} \\n Upper_limit:{upper_limit}\")\n",
        "        file = file[(file[column_name]>lower_limit)&(file[column_name]<upper_limit)]\n",
        "        \n",
        "    return file"
      ],
      "metadata": {
        "execution": {
          "iopub.status.busy": "2021-12-19T06:11:37.562163Z",
          "iopub.execute_input": "2021-12-19T06:11:37.562542Z",
          "iopub.status.idle": "2021-12-19T06:11:37.575016Z",
          "shell.execute_reply.started": "2021-12-19T06:11:37.562504Z",
          "shell.execute_reply": "2021-12-19T06:11:37.574341Z"
        },
        "trusted": true,
        "id": "zZAYTa451sGW"
      },
      "execution_count": null,
      "outputs": []
    },
    {
      "cell_type": "code",
      "source": [
        "df = outliers(file)"
      ],
      "metadata": {
        "execution": {
          "iopub.status.busy": "2021-12-19T06:11:37.576194Z",
          "iopub.execute_input": "2021-12-19T06:11:37.576806Z",
          "iopub.status.idle": "2021-12-19T06:11:37.619471Z",
          "shell.execute_reply.started": "2021-12-19T06:11:37.576761Z",
          "shell.execute_reply": "2021-12-19T06:11:37.618619Z"
        },
        "trusted": true,
        "colab": {
          "base_uri": "https://localhost:8080/"
        },
        "id": "jkz9C_RF1sGW",
        "outputId": "5c964a0f-3def-4327-adcc-be8051dccac0"
      },
      "execution_count": null,
      "outputs": [
        {
          "output_type": "stream",
          "name": "stdout",
          "text": [
            "Pregnancies>>Lower_limit:-6.5 \n",
            " Upper_limit:13.5\n",
            "Glucose>>Lower_limit:37.5 \n",
            " Upper_limit:201.5\n",
            "BloodPressure>>Lower_limit:35.0 \n",
            " Upper_limit:107.0\n",
            "SkinThickness>>Lower_limit:-49.5 \n",
            " Upper_limit:82.5\n",
            "Insulin>>Lower_limit:-198.0 \n",
            " Upper_limit:330.0\n",
            "BMI>>Lower_limit:13.699999999999994 \n",
            " Upper_limit:49.70000000000001\n",
            "DiabetesPedigreeFunction>>Lower_limit:-0.30737499999999995 \n",
            " Upper_limit:1.165625\n",
            "Age>>Lower_limit:-0.75 \n",
            " Upper_limit:65.25\n",
            "Outcome>>Lower_limit:-1.5 \n",
            " Upper_limit:2.5\n"
          ]
        }
      ]
    },
    {
      "cell_type": "code",
      "source": [
        "file.shape"
      ],
      "metadata": {
        "execution": {
          "iopub.status.busy": "2021-12-19T06:11:37.620732Z",
          "iopub.execute_input": "2021-12-19T06:11:37.620975Z",
          "iopub.status.idle": "2021-12-19T06:11:37.627092Z",
          "shell.execute_reply.started": "2021-12-19T06:11:37.620946Z",
          "shell.execute_reply": "2021-12-19T06:11:37.626257Z"
        },
        "trusted": true,
        "colab": {
          "base_uri": "https://localhost:8080/"
        },
        "id": "4wzTyb9s1sGX",
        "outputId": "0aa2072b-36db-416b-94d8-8ed100bd9eb3"
      },
      "execution_count": null,
      "outputs": [
        {
          "output_type": "execute_result",
          "data": {
            "text/plain": [
              "(768, 9)"
            ]
          },
          "metadata": {},
          "execution_count": 24
        }
      ]
    },
    {
      "cell_type": "code",
      "source": [
        "x = file.drop(columns = \"Outcome\", axis=1)\n",
        "y = file[\"Outcome\"]"
      ],
      "metadata": {
        "execution": {
          "iopub.status.busy": "2021-12-19T06:11:37.628585Z",
          "iopub.execute_input": "2021-12-19T06:11:37.629122Z",
          "iopub.status.idle": "2021-12-19T06:11:37.644515Z",
          "shell.execute_reply.started": "2021-12-19T06:11:37.629077Z",
          "shell.execute_reply": "2021-12-19T06:11:37.643781Z"
        },
        "trusted": true,
        "id": "RbkXzdAp1sGX"
      },
      "execution_count": null,
      "outputs": []
    },
    {
      "cell_type": "code",
      "source": [
        "smote = SMOTE()\n",
        "x,y = smote.fit_resample(x,y)\n",
        "x.shape,y.shape"
      ],
      "metadata": {
        "execution": {
          "iopub.status.busy": "2021-12-19T06:11:37.645751Z",
          "iopub.execute_input": "2021-12-19T06:11:37.646372Z",
          "iopub.status.idle": "2021-12-19T06:11:37.670786Z",
          "shell.execute_reply.started": "2021-12-19T06:11:37.646341Z",
          "shell.execute_reply": "2021-12-19T06:11:37.669758Z"
        },
        "trusted": true,
        "colab": {
          "base_uri": "https://localhost:8080/"
        },
        "id": "FYdFKFTk1sGX",
        "outputId": "4d870b8d-271a-49a0-9a57-9304b6e05992"
      },
      "execution_count": null,
      "outputs": [
        {
          "output_type": "execute_result",
          "data": {
            "text/plain": [
              "((1000, 8), (1000,))"
            ]
          },
          "metadata": {},
          "execution_count": 26
        }
      ]
    },
    {
      "cell_type": "code",
      "source": [
        "file.info()"
      ],
      "metadata": {
        "execution": {
          "iopub.status.busy": "2021-12-19T06:11:37.674611Z",
          "iopub.execute_input": "2021-12-19T06:11:37.674887Z",
          "iopub.status.idle": "2021-12-19T06:11:37.688096Z",
          "shell.execute_reply.started": "2021-12-19T06:11:37.674856Z",
          "shell.execute_reply": "2021-12-19T06:11:37.687223Z"
        },
        "trusted": true,
        "colab": {
          "base_uri": "https://localhost:8080/"
        },
        "id": "jk_abQzj1sGY",
        "outputId": "04dbfecd-5167-4c19-f13c-a0c6905677d1"
      },
      "execution_count": null,
      "outputs": [
        {
          "output_type": "stream",
          "name": "stdout",
          "text": [
            "<class 'pandas.core.frame.DataFrame'>\n",
            "RangeIndex: 768 entries, 0 to 767\n",
            "Data columns (total 9 columns):\n",
            " #   Column                    Non-Null Count  Dtype  \n",
            "---  ------                    --------------  -----  \n",
            " 0   Pregnancies               768 non-null    int64  \n",
            " 1   Glucose                   768 non-null    int64  \n",
            " 2   BloodPressure             768 non-null    int64  \n",
            " 3   SkinThickness             768 non-null    int64  \n",
            " 4   Insulin                   768 non-null    int64  \n",
            " 5   BMI                       768 non-null    float64\n",
            " 6   DiabetesPedigreeFunction  768 non-null    float64\n",
            " 7   Age                       768 non-null    int64  \n",
            " 8   Outcome                   768 non-null    int64  \n",
            "dtypes: float64(2), int64(7)\n",
            "memory usage: 54.1 KB\n"
          ]
        }
      ]
    },
    {
      "cell_type": "markdown",
      "source": [
        "# Correlation"
      ],
      "metadata": {
        "id": "WzUPcYd21sGY"
      }
    },
    {
      "cell_type": "code",
      "source": [
        "file.corr()"
      ],
      "metadata": {
        "execution": {
          "iopub.status.busy": "2021-12-19T06:11:37.689579Z",
          "iopub.execute_input": "2021-12-19T06:11:37.689913Z",
          "iopub.status.idle": "2021-12-19T06:11:37.711716Z",
          "shell.execute_reply.started": "2021-12-19T06:11:37.689868Z",
          "shell.execute_reply": "2021-12-19T06:11:37.710732Z"
        },
        "trusted": true,
        "colab": {
          "base_uri": "https://localhost:8080/"
        },
        "id": "z2gzE_eO1sGY",
        "outputId": "16e42bce-dba7-4e64-f1f3-449100c41893"
      },
      "execution_count": null,
      "outputs": [
        {
          "output_type": "execute_result",
          "data": {
            "text/html": [
              "\n",
              "  <div id=\"df-714cb59b-999e-4ee4-9476-627d7b35e2ec\">\n",
              "    <div class=\"colab-df-container\">\n",
              "      <div>\n",
              "<style scoped>\n",
              "    .dataframe tbody tr th:only-of-type {\n",
              "        vertical-align: middle;\n",
              "    }\n",
              "\n",
              "    .dataframe tbody tr th {\n",
              "        vertical-align: top;\n",
              "    }\n",
              "\n",
              "    .dataframe thead th {\n",
              "        text-align: right;\n",
              "    }\n",
              "</style>\n",
              "<table border=\"1\" class=\"dataframe\">\n",
              "  <thead>\n",
              "    <tr style=\"text-align: right;\">\n",
              "      <th></th>\n",
              "      <th>Pregnancies</th>\n",
              "      <th>Glucose</th>\n",
              "      <th>BloodPressure</th>\n",
              "      <th>SkinThickness</th>\n",
              "      <th>Insulin</th>\n",
              "      <th>BMI</th>\n",
              "      <th>DiabetesPedigreeFunction</th>\n",
              "      <th>Age</th>\n",
              "      <th>Outcome</th>\n",
              "    </tr>\n",
              "  </thead>\n",
              "  <tbody>\n",
              "    <tr>\n",
              "      <th>Pregnancies</th>\n",
              "      <td>1.000000</td>\n",
              "      <td>0.129459</td>\n",
              "      <td>0.141282</td>\n",
              "      <td>-0.081672</td>\n",
              "      <td>-0.073535</td>\n",
              "      <td>0.017683</td>\n",
              "      <td>-0.033523</td>\n",
              "      <td>0.544341</td>\n",
              "      <td>0.221898</td>\n",
              "    </tr>\n",
              "    <tr>\n",
              "      <th>Glucose</th>\n",
              "      <td>0.129459</td>\n",
              "      <td>1.000000</td>\n",
              "      <td>0.152590</td>\n",
              "      <td>0.057328</td>\n",
              "      <td>0.331357</td>\n",
              "      <td>0.221071</td>\n",
              "      <td>0.137337</td>\n",
              "      <td>0.263514</td>\n",
              "      <td>0.466581</td>\n",
              "    </tr>\n",
              "    <tr>\n",
              "      <th>BloodPressure</th>\n",
              "      <td>0.141282</td>\n",
              "      <td>0.152590</td>\n",
              "      <td>1.000000</td>\n",
              "      <td>0.207371</td>\n",
              "      <td>0.088933</td>\n",
              "      <td>0.281805</td>\n",
              "      <td>0.041265</td>\n",
              "      <td>0.239528</td>\n",
              "      <td>0.065068</td>\n",
              "    </tr>\n",
              "    <tr>\n",
              "      <th>SkinThickness</th>\n",
              "      <td>-0.081672</td>\n",
              "      <td>0.057328</td>\n",
              "      <td>0.207371</td>\n",
              "      <td>1.000000</td>\n",
              "      <td>0.436783</td>\n",
              "      <td>0.392573</td>\n",
              "      <td>0.183928</td>\n",
              "      <td>-0.113970</td>\n",
              "      <td>0.074752</td>\n",
              "    </tr>\n",
              "    <tr>\n",
              "      <th>Insulin</th>\n",
              "      <td>-0.073535</td>\n",
              "      <td>0.331357</td>\n",
              "      <td>0.088933</td>\n",
              "      <td>0.436783</td>\n",
              "      <td>1.000000</td>\n",
              "      <td>0.197859</td>\n",
              "      <td>0.185071</td>\n",
              "      <td>-0.042163</td>\n",
              "      <td>0.130548</td>\n",
              "    </tr>\n",
              "    <tr>\n",
              "      <th>BMI</th>\n",
              "      <td>0.017683</td>\n",
              "      <td>0.221071</td>\n",
              "      <td>0.281805</td>\n",
              "      <td>0.392573</td>\n",
              "      <td>0.197859</td>\n",
              "      <td>1.000000</td>\n",
              "      <td>0.140647</td>\n",
              "      <td>0.036242</td>\n",
              "      <td>0.292695</td>\n",
              "    </tr>\n",
              "    <tr>\n",
              "      <th>DiabetesPedigreeFunction</th>\n",
              "      <td>-0.033523</td>\n",
              "      <td>0.137337</td>\n",
              "      <td>0.041265</td>\n",
              "      <td>0.183928</td>\n",
              "      <td>0.185071</td>\n",
              "      <td>0.140647</td>\n",
              "      <td>1.000000</td>\n",
              "      <td>0.033561</td>\n",
              "      <td>0.173844</td>\n",
              "    </tr>\n",
              "    <tr>\n",
              "      <th>Age</th>\n",
              "      <td>0.544341</td>\n",
              "      <td>0.263514</td>\n",
              "      <td>0.239528</td>\n",
              "      <td>-0.113970</td>\n",
              "      <td>-0.042163</td>\n",
              "      <td>0.036242</td>\n",
              "      <td>0.033561</td>\n",
              "      <td>1.000000</td>\n",
              "      <td>0.238356</td>\n",
              "    </tr>\n",
              "    <tr>\n",
              "      <th>Outcome</th>\n",
              "      <td>0.221898</td>\n",
              "      <td>0.466581</td>\n",
              "      <td>0.065068</td>\n",
              "      <td>0.074752</td>\n",
              "      <td>0.130548</td>\n",
              "      <td>0.292695</td>\n",
              "      <td>0.173844</td>\n",
              "      <td>0.238356</td>\n",
              "      <td>1.000000</td>\n",
              "    </tr>\n",
              "  </tbody>\n",
              "</table>\n",
              "</div>\n",
              "      <button class=\"colab-df-convert\" onclick=\"convertToInteractive('df-714cb59b-999e-4ee4-9476-627d7b35e2ec')\"\n",
              "              title=\"Convert this dataframe to an interactive table.\"\n",
              "              style=\"display:none;\">\n",
              "        \n",
              "  <svg xmlns=\"http://www.w3.org/2000/svg\" height=\"24px\"viewBox=\"0 0 24 24\"\n",
              "       width=\"24px\">\n",
              "    <path d=\"M0 0h24v24H0V0z\" fill=\"none\"/>\n",
              "    <path d=\"M18.56 5.44l.94 2.06.94-2.06 2.06-.94-2.06-.94-.94-2.06-.94 2.06-2.06.94zm-11 1L8.5 8.5l.94-2.06 2.06-.94-2.06-.94L8.5 2.5l-.94 2.06-2.06.94zm10 10l.94 2.06.94-2.06 2.06-.94-2.06-.94-.94-2.06-.94 2.06-2.06.94z\"/><path d=\"M17.41 7.96l-1.37-1.37c-.4-.4-.92-.59-1.43-.59-.52 0-1.04.2-1.43.59L10.3 9.45l-7.72 7.72c-.78.78-.78 2.05 0 2.83L4 21.41c.39.39.9.59 1.41.59.51 0 1.02-.2 1.41-.59l7.78-7.78 2.81-2.81c.8-.78.8-2.07 0-2.86zM5.41 20L4 18.59l7.72-7.72 1.47 1.35L5.41 20z\"/>\n",
              "  </svg>\n",
              "      </button>\n",
              "      \n",
              "  <style>\n",
              "    .colab-df-container {\n",
              "      display:flex;\n",
              "      flex-wrap:wrap;\n",
              "      gap: 12px;\n",
              "    }\n",
              "\n",
              "    .colab-df-convert {\n",
              "      background-color: #E8F0FE;\n",
              "      border: none;\n",
              "      border-radius: 50%;\n",
              "      cursor: pointer;\n",
              "      display: none;\n",
              "      fill: #1967D2;\n",
              "      height: 32px;\n",
              "      padding: 0 0 0 0;\n",
              "      width: 32px;\n",
              "    }\n",
              "\n",
              "    .colab-df-convert:hover {\n",
              "      background-color: #E2EBFA;\n",
              "      box-shadow: 0px 1px 2px rgba(60, 64, 67, 0.3), 0px 1px 3px 1px rgba(60, 64, 67, 0.15);\n",
              "      fill: #174EA6;\n",
              "    }\n",
              "\n",
              "    [theme=dark] .colab-df-convert {\n",
              "      background-color: #3B4455;\n",
              "      fill: #D2E3FC;\n",
              "    }\n",
              "\n",
              "    [theme=dark] .colab-df-convert:hover {\n",
              "      background-color: #434B5C;\n",
              "      box-shadow: 0px 1px 3px 1px rgba(0, 0, 0, 0.15);\n",
              "      filter: drop-shadow(0px 1px 2px rgba(0, 0, 0, 0.3));\n",
              "      fill: #FFFFFF;\n",
              "    }\n",
              "  </style>\n",
              "\n",
              "      <script>\n",
              "        const buttonEl =\n",
              "          document.querySelector('#df-714cb59b-999e-4ee4-9476-627d7b35e2ec button.colab-df-convert');\n",
              "        buttonEl.style.display =\n",
              "          google.colab.kernel.accessAllowed ? 'block' : 'none';\n",
              "\n",
              "        async function convertToInteractive(key) {\n",
              "          const element = document.querySelector('#df-714cb59b-999e-4ee4-9476-627d7b35e2ec');\n",
              "          const dataTable =\n",
              "            await google.colab.kernel.invokeFunction('convertToInteractive',\n",
              "                                                     [key], {});\n",
              "          if (!dataTable) return;\n",
              "\n",
              "          const docLinkHtml = 'Like what you see? Visit the ' +\n",
              "            '<a target=\"_blank\" href=https://colab.research.google.com/notebooks/data_table.ipynb>data table notebook</a>'\n",
              "            + ' to learn more about interactive tables.';\n",
              "          element.innerHTML = '';\n",
              "          dataTable['output_type'] = 'display_data';\n",
              "          await google.colab.output.renderOutput(dataTable, element);\n",
              "          const docLink = document.createElement('div');\n",
              "          docLink.innerHTML = docLinkHtml;\n",
              "          element.appendChild(docLink);\n",
              "        }\n",
              "      </script>\n",
              "    </div>\n",
              "  </div>\n",
              "  "
            ],
            "text/plain": [
              "                          Pregnancies   Glucose  ...       Age   Outcome\n",
              "Pregnancies                  1.000000  0.129459  ...  0.544341  0.221898\n",
              "Glucose                      0.129459  1.000000  ...  0.263514  0.466581\n",
              "BloodPressure                0.141282  0.152590  ...  0.239528  0.065068\n",
              "SkinThickness               -0.081672  0.057328  ... -0.113970  0.074752\n",
              "Insulin                     -0.073535  0.331357  ... -0.042163  0.130548\n",
              "BMI                          0.017683  0.221071  ...  0.036242  0.292695\n",
              "DiabetesPedigreeFunction    -0.033523  0.137337  ...  0.033561  0.173844\n",
              "Age                          0.544341  0.263514  ...  1.000000  0.238356\n",
              "Outcome                      0.221898  0.466581  ...  0.238356  1.000000\n",
              "\n",
              "[9 rows x 9 columns]"
            ]
          },
          "metadata": {},
          "execution_count": 28
        }
      ]
    },
    {
      "cell_type": "code",
      "source": [
        "sns.heatmap(file.corr())"
      ],
      "metadata": {
        "execution": {
          "iopub.status.busy": "2021-12-19T06:11:37.713046Z",
          "iopub.execute_input": "2021-12-19T06:11:37.713266Z",
          "iopub.status.idle": "2021-12-19T06:11:38.080177Z",
          "shell.execute_reply.started": "2021-12-19T06:11:37.713241Z",
          "shell.execute_reply": "2021-12-19T06:11:38.079521Z"
        },
        "trusted": true,
        "colab": {
          "base_uri": "https://localhost:8080/"
        },
        "id": "AZ6Ch6De1sGY",
        "outputId": "ee943ae9-1534-4f92-b24f-97462e6ed118"
      },
      "execution_count": null,
      "outputs": [
        {
          "output_type": "execute_result",
          "data": {
            "text/plain": [
              "<matplotlib.axes._subplots.AxesSubplot at 0x7fab9b11e0d0>"
            ]
          },
          "metadata": {},
          "execution_count": 29
        },
        {
          "output_type": "display_data",
          "data": {
            "image/png": "[encoded data removed]",
            "text/plain": [
              "<Figure size 432x288 with 2 Axes>"
            ]
          },
          "metadata": {
            "needs_background": "light"
          }
        }
      ]
    },
    {
      "cell_type": "markdown",
      "source": [
        "# Data Visualization"
      ],
      "metadata": {
        "id": "-hwypYMO1sGY"
      }
    },
    {
      "cell_type": "code",
      "source": [
        "#a histogram presentation\n",
        "plt.figure(figsize=(6,5))\n",
        "plt.hist(\"Glucose\",data=file,edgecolor=\"k\")\n",
        "plt.title(\"Glucose Hist Plot\")\n",
        "plt.show()"
      ],
      "metadata": {
        "execution": {
          "iopub.status.busy": "2021-12-19T06:11:38.081196Z",
          "iopub.execute_input": "2021-12-19T06:11:38.081937Z",
          "iopub.status.idle": "2021-12-19T06:11:38.287937Z",
          "shell.execute_reply.started": "2021-12-19T06:11:38.0819Z",
          "shell.execute_reply": "2021-12-19T06:11:38.287258Z"
        },
        "trusted": true,
        "colab": {
          "base_uri": "https://localhost:8080/"
        },
        "id": "tdekaAdQ1sGY",
        "outputId": "0f5c4e7f-06f5-4dff-b3b8-345b9d5cdce1"
      },
      "execution_count": null,
      "outputs": [
        {
          "output_type": "display_data",
          "data": {
            "image/png": "[encoded data removed]",
            "text/plain": [
              "<Figure size 432x360 with 1 Axes>"
            ]
          },
          "metadata": {
            "needs_background": "light"
          }
        }
      ]
    },
    {
      "cell_type": "code",
      "source": [
        "plt.figure(figsize=(6,5))\n",
        "plt.hist(\"Pregnancies\",data=file,edgecolor=\"k\")\n",
        "plt.title(\"Pregnancies Hist Plot\")\n",
        "plt.show()"
      ],
      "metadata": {
        "execution": {
          "iopub.status.busy": "2021-12-19T06:11:38.288962Z",
          "iopub.execute_input": "2021-12-19T06:11:38.289546Z",
          "iopub.status.idle": "2021-12-19T06:11:38.454711Z",
          "shell.execute_reply.started": "2021-12-19T06:11:38.289509Z",
          "shell.execute_reply": "2021-12-19T06:11:38.454081Z"
        },
        "trusted": true,
        "colab": {
          "base_uri": "https://localhost:8080/"
        },
        "id": "wav_yGoP1sGZ",
        "outputId": "05a1d11e-8e39-4250-ef17-1109c5b87040"
      },
      "execution_count": null,
      "outputs": [
        {
          "output_type": "display_data",
          "data": {
            "image/png": "[encoded data removed]",
            "text/plain": [
              "<Figure size 432x360 with 1 Axes>"
            ]
          },
          "metadata": {
            "needs_background": "light"
          }
        }
      ]
    },
    {
      "cell_type": "code",
      "source": [
        "plt.figure(figsize=(6,5))\n",
        "plt.hist(\"BloodPressure\",data=file,edgecolor=\"k\")\n",
        "plt.title(\"BloodPressure Hist Plot\")\n",
        "plt.show()"
      ],
      "metadata": {
        "execution": {
          "iopub.status.busy": "2021-12-19T06:11:38.455874Z",
          "iopub.execute_input": "2021-12-19T06:11:38.456428Z",
          "iopub.status.idle": "2021-12-19T06:11:38.612182Z",
          "shell.execute_reply.started": "2021-12-19T06:11:38.456366Z",
          "shell.execute_reply": "2021-12-19T06:11:38.611325Z"
        },
        "trusted": true,
        "colab": {
          "base_uri": "https://localhost:8080/"
        },
        "id": "emo4PJUF1sGZ",
        "outputId": "c4ab8b52-ac14-4a74-94f6-f880e6f3c818"
      },
      "execution_count": null,
      "outputs": [
        {
          "output_type": "display_data",
          "data": {
            "image/png": "[encoded data removed]",
            "text/plain": [
              "<Figure size 432x360 with 1 Axes>"
            ]
          },
          "metadata": {
            "needs_background": "light"
          }
        }
      ]
    },
    {
      "cell_type": "code",
      "source": [
        "plt.figure(figsize=(6,5))\n",
        "plt.hist(\"SkinThickness\",data=file,edgecolor=\"k\")\n",
        "plt.title(\"SkinThickness Hist Plot\")\n",
        "plt.show()"
      ],
      "metadata": {
        "execution": {
          "iopub.status.busy": "2021-12-19T06:11:38.61344Z",
          "iopub.execute_input": "2021-12-19T06:11:38.614171Z",
          "iopub.status.idle": "2021-12-19T06:11:38.76654Z",
          "shell.execute_reply.started": "2021-12-19T06:11:38.614125Z",
          "shell.execute_reply": "2021-12-19T06:11:38.765726Z"
        },
        "trusted": true,
        "colab": {
          "base_uri": "https://localhost:8080/"
        },
        "id": "BF-FsbJt1sGZ",
        "outputId": "7f784bcb-b38e-418e-b723-c7dcafc1ae33"
      },
      "execution_count": null,
      "outputs": [
        {
          "output_type": "display_data",
          "data": {
            "image/png": "[encoded data removed]",
            "text/plain": [
              "<Figure size 432x360 with 1 Axes>"
            ]
          },
          "metadata": {
            "needs_background": "light"
          }
        }
      ]
    },
    {
      "cell_type": "code",
      "source": [
        "plt.figure(figsize=(6,5))\n",
        "plt.hist(\"Insulin\",data=file,edgecolor=\"k\")\n",
        "plt.title(\"Insulin Hist Plot\")\n",
        "plt.show()"
      ],
      "metadata": {
        "execution": {
          "iopub.status.busy": "2021-12-19T06:11:38.769873Z",
          "iopub.execute_input": "2021-12-19T06:11:38.770144Z",
          "iopub.status.idle": "2021-12-19T06:11:39.04569Z",
          "shell.execute_reply.started": "2021-12-19T06:11:38.770113Z",
          "shell.execute_reply": "2021-12-19T06:11:39.044687Z"
        },
        "trusted": true,
        "colab": {
          "base_uri": "https://localhost:8080/"
        },
        "id": "3V13r-l01sGZ",
        "outputId": "462a1622-37ae-493a-d7fb-f7da729e2725"
      },
      "execution_count": null,
      "outputs": [
        {
          "output_type": "display_data",
          "data": {
            "image/png": "[encoded data removed]",
            "text/plain": [
              "<Figure size 432x360 with 1 Axes>"
            ]
          },
          "metadata": {
            "needs_background": "light"
          }
        }
      ]
    },
    {
      "cell_type": "code",
      "source": [
        "plt.figure(figsize=(6,5))\n",
        "plt.hist(\"BMI\",data=file,edgecolor=\"k\")\n",
        "plt.title(\"BMI Hist Plot\")\n",
        "plt.show()"
      ],
      "metadata": {
        "execution": {
          "iopub.status.busy": "2021-12-19T06:11:39.047156Z",
          "iopub.execute_input": "2021-12-19T06:11:39.048065Z",
          "iopub.status.idle": "2021-12-19T06:11:39.20393Z",
          "shell.execute_reply.started": "2021-12-19T06:11:39.048019Z",
          "shell.execute_reply": "2021-12-19T06:11:39.203267Z"
        },
        "trusted": true,
        "colab": {
          "base_uri": "https://localhost:8080/"
        },
        "id": "_sapLrdM1sGZ",
        "outputId": "4c20ffc9-884c-4ad3-cbba-e2d99e8540fb"
      },
      "execution_count": null,
      "outputs": [
        {
          "output_type": "display_data",
          "data": {
            "image/png": "[encoded data removed]",
            "text/plain": [
              "<Figure size 432x360 with 1 Axes>"
            ]
          },
          "metadata": {
            "needs_background": "light"
          }
        }
      ]
    },
    {
      "cell_type": "code",
      "source": [
        "plt.figure(figsize=(6,5))\n",
        "plt.hist(\"DiabetesPedigreeFunction\",data=file,edgecolor=\"k\")\n",
        "plt.title(\"DiabetesPedigreeFunction Hist Plot\")\n",
        "plt.show()"
      ],
      "metadata": {
        "execution": {
          "iopub.status.busy": "2021-12-19T06:11:39.20516Z",
          "iopub.execute_input": "2021-12-19T06:11:39.205945Z",
          "iopub.status.idle": "2021-12-19T06:11:39.409739Z",
          "shell.execute_reply.started": "2021-12-19T06:11:39.205898Z",
          "shell.execute_reply": "2021-12-19T06:11:39.408905Z"
        },
        "trusted": true,
        "colab": {
          "base_uri": "https://localhost:8080/"
        },
        "id": "7ML41FE81sGZ",
        "outputId": "07e8aecf-e720-4003-d479-0e923500697a"
      },
      "execution_count": null,
      "outputs": [
        {
          "output_type": "display_data",
          "data": {
            "image/png": "[encoded data removed]",
            "text/plain": [
              "<Figure size 432x360 with 1 Axes>"
            ]
          },
          "metadata": {
            "needs_background": "light"
          }
        }
      ]
    },
    {
      "cell_type": "code",
      "source": [
        "plt.figure(figsize=(6,5))\n",
        "plt.hist(\"Age\",data=file,edgecolor=\"k\")\n",
        "plt.title(\"Age Hist Plot\")\n",
        "plt.show()"
      ],
      "metadata": {
        "execution": {
          "iopub.status.busy": "2021-12-19T06:11:39.410796Z",
          "iopub.execute_input": "2021-12-19T06:11:39.41102Z",
          "iopub.status.idle": "2021-12-19T06:11:39.619509Z",
          "shell.execute_reply.started": "2021-12-19T06:11:39.410989Z",
          "shell.execute_reply": "2021-12-19T06:11:39.618528Z"
        },
        "trusted": true,
        "colab": {
          "base_uri": "https://localhost:8080/"
        },
        "id": "3jZIQ1F51sGa",
        "outputId": "f27b34e1-0edc-4ad9-f5e9-65c7a0f426fe"
      },
      "execution_count": null,
      "outputs": [
        {
          "output_type": "display_data",
          "data": {
            "image/png": "[encoded data removed]",
            "text/plain": [
              "<Figure size 432x360 with 1 Axes>"
            ]
          },
          "metadata": {
            "needs_background": "light"
          }
        }
      ]
    },
    {
      "cell_type": "code",
      "source": [
        "#a scatter plot presentation\n",
        "plt.figure(figsize=(6,5))\n",
        "plt.scatter(\"BMI\",\"Glucose\",data=file,edgecolor=\"k\")\n",
        "plt.title(\"Glucose Vs BMI \")\n",
        "plt.xlabel(\"Glucose\")\n",
        "plt.ylabel(\"BMI\")\n",
        "plt.show()"
      ],
      "metadata": {
        "execution": {
          "iopub.status.busy": "2021-12-19T06:13:37.751688Z",
          "iopub.execute_input": "2021-12-19T06:13:37.752016Z",
          "iopub.status.idle": "2021-12-19T06:13:37.983585Z",
          "shell.execute_reply.started": "2021-12-19T06:13:37.751979Z",
          "shell.execute_reply": "2021-12-19T06:13:37.982755Z"
        },
        "trusted": true,
        "colab": {
          "base_uri": "https://localhost:8080/"
        },
        "id": "KDBU8jHB1sGa",
        "outputId": "d6faff47-1507-4ab3-e030-b1366d89b79d"
      },
      "execution_count": null,
      "outputs": [
        {
          "output_type": "display_data",
          "data": {
            "image/png": "[encoded data removed]",
            "text/plain": [
              "<Figure size 432x360 with 1 Axes>"
            ]
          },
          "metadata": {
            "needs_background": "light"
          }
        }
      ]
    },
    {
      "cell_type": "code",
      "source": [
        "#a scatter plot presentation\n",
        "plt.figure(figsize=(6,5))\n",
        "plt.scatter(\"Outcome\",\"Glucose\",data=file,edgecolor=\"k\")\n",
        "plt.title(\"Glucose Vs Outcome \")\n",
        "plt.xlabel(\"Glucose\")\n",
        "plt.ylabel(\"Outcome\")\n",
        "plt.show()"
      ],
      "metadata": {
        "execution": {
          "iopub.status.busy": "2021-12-19T06:12:41.220802Z",
          "iopub.execute_input": "2021-12-19T06:12:41.221117Z",
          "iopub.status.idle": "2021-12-19T06:12:41.436378Z",
          "shell.execute_reply.started": "2021-12-19T06:12:41.221084Z",
          "shell.execute_reply": "2021-12-19T06:12:41.435485Z"
        },
        "trusted": true,
        "colab": {
          "base_uri": "https://localhost:8080/"
        },
        "id": "noLkC7WW1sGa",
        "outputId": "bc0307a6-bad0-4ba4-8cc0-8b91149b04bf"
      },
      "execution_count": null,
      "outputs": [
        {
          "output_type": "display_data",
          "data": {
            "image/png": "[encoded data removed]",
            "text/plain": [
              "<Figure size 432x360 with 1 Axes>"
            ]
          },
          "metadata": {
            "needs_background": "light"
          }
        }
      ]
    },
    {
      "cell_type": "code",
      "source": [
        "plt.figure(figsize=(6,5))\n",
        "plt.scatter(\"Outcome\",\"Insulin\",data=file,edgecolor=\"k\")\n",
        "plt.title(\"Outcome Vs Insulin \")\n",
        "plt.xlabel(\"Outcome\")\n",
        "plt.ylabel(\"Insulin\")\n",
        "plt.show()"
      ],
      "metadata": {
        "execution": {
          "iopub.status.busy": "2021-12-19T06:11:39.837102Z",
          "iopub.execute_input": "2021-12-19T06:11:39.837463Z",
          "iopub.status.idle": "2021-12-19T06:11:40.031905Z",
          "shell.execute_reply.started": "2021-12-19T06:11:39.837421Z",
          "shell.execute_reply": "2021-12-19T06:11:40.030905Z"
        },
        "trusted": true,
        "colab": {
          "base_uri": "https://localhost:8080/"
        },
        "id": "NlhHadK31sGa",
        "outputId": "aee82d24-1903-4758-b1f4-c22e717ac8fb"
      },
      "execution_count": null,
      "outputs": [
        {
          "output_type": "display_data",
          "data": {
            "image/png": "[encoded data removed]",
            "text/plain": [
              "<Figure size 432x360 with 1 Axes>"
            ]
          },
          "metadata": {
            "needs_background": "light"
          }
        }
      ]
    },
    {
      "cell_type": "code",
      "source": [
        "plt.figure(figsize=(6,5))\n",
        "plt.scatter(\"Outcome\",\"BMI\",data=file,edgecolor=\"k\")\n",
        "plt.title(\"Outcome Vs BMI \")\n",
        "plt.xlabel(\"Outcome\")\n",
        "plt.ylabel(\"BMI\")\n",
        "plt.show()"
      ],
      "metadata": {
        "execution": {
          "iopub.status.busy": "2021-12-19T06:11:40.033529Z",
          "iopub.execute_input": "2021-12-19T06:11:40.033871Z",
          "iopub.status.idle": "2021-12-19T06:11:40.247194Z",
          "shell.execute_reply.started": "2021-12-19T06:11:40.033827Z",
          "shell.execute_reply": "2021-12-19T06:11:40.246242Z"
        },
        "trusted": true,
        "colab": {
          "base_uri": "https://localhost:8080/"
        },
        "id": "xlJBUFNx1sGa",
        "outputId": "e3b9a5b4-aca1-477c-9c94-fd7c59b07abc"
      },
      "execution_count": null,
      "outputs": [
        {
          "output_type": "display_data",
          "data": {
            "image/png": "[encoded data removed]",
            "text/plain": [
              "<Figure size 432x360 with 1 Axes>"
            ]
          },
          "metadata": {
            "needs_background": "light"
          }
        }
      ]
    },
    {
      "cell_type": "code",
      "source": [
        "file.shape"
      ],
      "metadata": {
        "execution": {
          "iopub.status.busy": "2021-12-19T06:11:40.248609Z",
          "iopub.execute_input": "2021-12-19T06:11:40.248934Z",
          "iopub.status.idle": "2021-12-19T06:11:40.255587Z",
          "shell.execute_reply.started": "2021-12-19T06:11:40.248889Z",
          "shell.execute_reply": "2021-12-19T06:11:40.25469Z"
        },
        "trusted": true,
        "colab": {
          "base_uri": "https://localhost:8080/"
        },
        "id": "8_eWNhS-1sGa",
        "outputId": "297a2a59-eb55-40cc-cd7f-f2d4e026f9d5"
      },
      "execution_count": null,
      "outputs": [
        {
          "output_type": "execute_result",
          "data": {
            "text/plain": [
              "(768, 9)"
            ]
          },
          "metadata": {},
          "execution_count": 42
        }
      ]
    },
    {
      "cell_type": "code",
      "source": [
        ""
      ],
      "metadata": {
        "id": "XOvEQNAF1sGa"
      },
      "execution_count": null,
      "outputs": []
    },
    {
      "cell_type": "markdown",
      "source": [
        "# Train test split"
      ],
      "metadata": {
        "id": "-hKsczKz1sGa"
      }
    },
    {
      "cell_type": "code",
      "source": [
        "x_train, x_test,y_train, y_test = train_test_split(x,y, test_size=0.2, random_state=2)"
      ],
      "metadata": {
        "execution": {
          "iopub.status.busy": "2021-12-19T06:11:40.257122Z",
          "iopub.execute_input": "2021-12-19T06:11:40.257444Z",
          "iopub.status.idle": "2021-12-19T06:11:40.270834Z",
          "shell.execute_reply.started": "2021-12-19T06:11:40.257374Z",
          "shell.execute_reply": "2021-12-19T06:11:40.269991Z"
        },
        "trusted": true,
        "id": "Np0FIGn81sGa"
      },
      "execution_count": null,
      "outputs": []
    },
    {
      "cell_type": "code",
      "source": [
        "print(x_train.shape, x_test.shape, y_train.shape, y_test.shape)"
      ],
      "metadata": {
        "execution": {
          "iopub.status.busy": "2021-12-19T06:11:40.272215Z",
          "iopub.execute_input": "2021-12-19T06:11:40.272675Z",
          "iopub.status.idle": "2021-12-19T06:11:40.285374Z",
          "shell.execute_reply.started": "2021-12-19T06:11:40.272632Z",
          "shell.execute_reply": "2021-12-19T06:11:40.284361Z"
        },
        "trusted": true,
        "colab": {
          "base_uri": "https://localhost:8080/"
        },
        "id": "vOUTvUeR1sGb",
        "outputId": "267c1ec6-2584-4db6-f62d-f889cde3bbd5"
      },
      "execution_count": null,
      "outputs": [
        {
          "output_type": "stream",
          "name": "stdout",
          "text": [
            "(800, 8) (200, 8) (800,) (200,)\n"
          ]
        }
      ]
    },
    {
      "cell_type": "markdown",
      "source": [
        "# Logistic Regression"
      ],
      "metadata": {
        "id": "3iwxnUUG1sGb"
      }
    },
    {
      "cell_type": "code",
      "source": [
        "logreg = LogisticRegression(solver=\"liblinear\")"
      ],
      "metadata": {
        "execution": {
          "iopub.status.busy": "2021-12-19T06:11:40.286794Z",
          "iopub.execute_input": "2021-12-19T06:11:40.287005Z",
          "iopub.status.idle": "2021-12-19T06:11:40.298051Z",
          "shell.execute_reply.started": "2021-12-19T06:11:40.286972Z",
          "shell.execute_reply": "2021-12-19T06:11:40.297036Z"
        },
        "trusted": true,
        "id": "ljFl8EkI1sGb"
      },
      "execution_count": null,
      "outputs": []
    },
    {
      "cell_type": "code",
      "source": [
        "logreg.fit(x_train,y_train)"
      ],
      "metadata": {
        "execution": {
          "iopub.status.busy": "2021-12-19T06:11:40.299568Z",
          "iopub.execute_input": "2021-12-19T06:11:40.299773Z",
          "iopub.status.idle": "2021-12-19T06:11:40.324732Z",
          "shell.execute_reply.started": "2021-12-19T06:11:40.299748Z",
          "shell.execute_reply": "2021-12-19T06:11:40.323755Z"
        },
        "trusted": true,
        "colab": {
          "base_uri": "https://localhost:8080/"
        },
        "id": "gFFVT8aq1sGb",
        "outputId": "8b57e7a2-b287-484d-94f6-7eb1e22595da"
      },
      "execution_count": null,
      "outputs": [
        {
          "output_type": "execute_result",
          "data": {
            "text/plain": [
              "LogisticRegression(solver='liblinear')"
            ]
          },
          "metadata": {},
          "execution_count": 46
        }
      ]
    },
    {
      "cell_type": "code",
      "source": [
        "logreg.score(x_test,y_test)"
      ],
      "metadata": {
        "execution": {
          "iopub.status.busy": "2021-12-19T06:11:40.326393Z",
          "iopub.execute_input": "2021-12-19T06:11:40.326638Z",
          "iopub.status.idle": "2021-12-19T06:11:40.336481Z",
          "shell.execute_reply.started": "2021-12-19T06:11:40.326608Z",
          "shell.execute_reply": "2021-12-19T06:11:40.335496Z"
        },
        "trusted": true,
        "colab": {
          "base_uri": "https://localhost:8080/"
        },
        "id": "e3q_pn3t1sGb",
        "outputId": "d13bacfa-1a8e-4c9d-8a31-57165f7455c4"
      },
      "execution_count": null,
      "outputs": [
        {
          "output_type": "execute_result",
          "data": {
            "text/plain": [
              "0.765"
            ]
          },
          "metadata": {},
          "execution_count": 47
        }
      ]
    },
    {
      "cell_type": "code",
      "source": [
        "y_pred=logreg.predict(x_test)"
      ],
      "metadata": {
        "execution": {
          "iopub.status.busy": "2021-12-19T06:11:40.337933Z",
          "iopub.execute_input": "2021-12-19T06:11:40.338319Z",
          "iopub.status.idle": "2021-12-19T06:11:40.346586Z",
          "shell.execute_reply.started": "2021-12-19T06:11:40.338272Z",
          "shell.execute_reply": "2021-12-19T06:11:40.345723Z"
        },
        "trusted": true,
        "id": "p1h_jR0U1sGb"
      },
      "execution_count": null,
      "outputs": []
    },
    {
      "cell_type": "code",
      "source": [
        "cm = confusion_matrix(y_test,y_pred)\n",
        "cm"
      ],
      "metadata": {
        "execution": {
          "iopub.status.busy": "2021-12-19T06:11:40.347796Z",
          "iopub.execute_input": "2021-12-19T06:11:40.348081Z",
          "iopub.status.idle": "2021-12-19T06:11:40.36418Z",
          "shell.execute_reply.started": "2021-12-19T06:11:40.34804Z",
          "shell.execute_reply": "2021-12-19T06:11:40.363283Z"
        },
        "trusted": true,
        "colab": {
          "base_uri": "https://localhost:8080/"
        },
        "id": "h2mvNoTR1sGb",
        "outputId": "bfe76f1c-5f44-40d3-a8a4-ea9243d39f97"
      },
      "execution_count": null,
      "outputs": [
        {
          "output_type": "execute_result",
          "data": {
            "text/plain": [
              "array([[74, 17],\n",
              "       [30, 79]])"
            ]
          },
          "metadata": {},
          "execution_count": 49
        }
      ]
    },
    {
      "cell_type": "code",
      "source": [
        "plot_confusion_matrix(logreg,x_test,y_test,cmap=\"Blues\",values_format=\".3g\")"
      ],
      "metadata": {
        "execution": {
          "iopub.status.busy": "2021-12-19T06:11:40.365396Z",
          "iopub.execute_input": "2021-12-19T06:11:40.365713Z",
          "iopub.status.idle": "2021-12-19T06:11:40.609314Z",
          "shell.execute_reply.started": "2021-12-19T06:11:40.365673Z",
          "shell.execute_reply": "2021-12-19T06:11:40.6084Z"
        },
        "trusted": true,
        "colab": {
          "base_uri": "https://localhost:8080/"
        },
        "id": "9ti3sLdq1sGb",
        "outputId": "e64dcdc3-4c7f-463f-da57-88ab1159c9e1"
      },
      "execution_count": null,
      "outputs": [
        {
          "output_type": "stream",
          "name": "stderr",
          "text": [
            "/usr/local/lib/python3.7/dist-packages/sklearn/utils/deprecation.py:87: FutureWarning: Function plot_confusion_matrix is deprecated; Function `plot_confusion_matrix` is deprecated in 1.0 and will be removed in 1.2. Use one of the class methods: ConfusionMatrixDisplay.from_predictions or ConfusionMatrixDisplay.from_estimator.\n",
            "  warnings.warn(msg, category=FutureWarning)\n"
          ]
        },
        {
          "output_type": "execute_result",
          "data": {
            "text/plain": [
              "<sklearn.metrics._plot.confusion_matrix.ConfusionMatrixDisplay at 0x7fab7a80e490>"
            ]
          },
          "metadata": {},
          "execution_count": 50
        },
        {
          "output_type": "display_data",
          "data": {
            "image/png": "[encoded data removed]",
            "text/plain": [
              "<Figure size 432x288 with 2 Axes>"
            ]
          },
          "metadata": {
            "needs_background": "light"
          }
        }
      ]
    },
    {
      "cell_type": "code",
      "source": [
        "print(classification_report(y_test,y_pred))"
      ],
      "metadata": {
        "execution": {
          "iopub.status.busy": "2021-12-19T06:11:40.610821Z",
          "iopub.execute_input": "2021-12-19T06:11:40.611138Z",
          "iopub.status.idle": "2021-12-19T06:11:40.621947Z",
          "shell.execute_reply.started": "2021-12-19T06:11:40.611098Z",
          "shell.execute_reply": "2021-12-19T06:11:40.620985Z"
        },
        "trusted": true,
        "colab": {
          "base_uri": "https://localhost:8080/"
        },
        "id": "FStZE4t_1sGc",
        "outputId": "54f78c65-3a34-4cb3-8573-0308d3b359ea"
      },
      "execution_count": null,
      "outputs": [
        {
          "output_type": "stream",
          "name": "stdout",
          "text": [
            "              precision    recall  f1-score   support\n",
            "\n",
            "           0       0.71      0.81      0.76        91\n",
            "           1       0.82      0.72      0.77       109\n",
            "\n",
            "    accuracy                           0.77       200\n",
            "   macro avg       0.77      0.77      0.76       200\n",
            "weighted avg       0.77      0.77      0.77       200\n",
            "\n"
          ]
        }
      ]
    },
    {
      "cell_type": "markdown",
      "source": [
        "# KNN "
      ],
      "metadata": {
        "id": "cVmCCNHl1sGc"
      }
    },
    {
      "cell_type": "code",
      "source": [
        "import math\n",
        "math.sqrt(len(y_test))"
      ],
      "metadata": {
        "execution": {
          "iopub.status.busy": "2021-12-19T06:11:40.623106Z",
          "iopub.execute_input": "2021-12-19T06:11:40.623353Z",
          "iopub.status.idle": "2021-12-19T06:11:40.635725Z",
          "shell.execute_reply.started": "2021-12-19T06:11:40.623325Z",
          "shell.execute_reply": "2021-12-19T06:11:40.634938Z"
        },
        "trusted": true,
        "colab": {
          "base_uri": "https://localhost:8080/"
        },
        "id": "Wn1W0goq1sGc",
        "outputId": "0fc8bb87-465b-4034-eb2d-2bccaf486b47"
      },
      "execution_count": null,
      "outputs": [
        {
          "output_type": "execute_result",
          "data": {
            "text/plain": [
              "14.142135623730951"
            ]
          },
          "metadata": {},
          "execution_count": 52
        }
      ]
    },
    {
      "cell_type": "code",
      "source": [
        "kn_classifier = KNeighborsClassifier(n_neighbors=11, p=2, metric=\"euclidean\")\n",
        "kn_classifier.fit(x_train,y_train)"
      ],
      "metadata": {
        "execution": {
          "iopub.status.busy": "2021-12-19T06:11:40.637066Z",
          "iopub.execute_input": "2021-12-19T06:11:40.637394Z",
          "iopub.status.idle": "2021-12-19T06:11:40.654172Z",
          "shell.execute_reply.started": "2021-12-19T06:11:40.637351Z",
          "shell.execute_reply": "2021-12-19T06:11:40.653245Z"
        },
        "trusted": true,
        "colab": {
          "base_uri": "https://localhost:8080/"
        },
        "id": "GmDLJ_vi1sGc",
        "outputId": "0e0441b0-01c8-4d9d-951a-0e06ff521b8b"
      },
      "execution_count": null,
      "outputs": [
        {
          "output_type": "execute_result",
          "data": {
            "text/plain": [
              "KNeighborsClassifier(metric='euclidean', n_neighbors=11)"
            ]
          },
          "metadata": {},
          "execution_count": 53
        }
      ]
    },
    {
      "cell_type": "code",
      "source": [
        "y_pred = kn_classifier.predict(x_test)\n",
        "y_pred"
      ],
      "metadata": {
        "execution": {
          "iopub.status.busy": "2021-12-19T06:11:40.656989Z",
          "iopub.execute_input": "2021-12-19T06:11:40.657895Z",
          "iopub.status.idle": "2021-12-19T06:11:40.681709Z",
          "shell.execute_reply.started": "2021-12-19T06:11:40.657857Z",
          "shell.execute_reply": "2021-12-19T06:11:40.68106Z"
        },
        "trusted": true,
        "colab": {
          "base_uri": "https://localhost:8080/"
        },
        "id": "pPKVPS6V1sGc",
        "outputId": "c6233834-65e8-422a-892d-71c0e62c040d"
      },
      "execution_count": null,
      "outputs": [
        {
          "output_type": "execute_result",
          "data": {
            "text/plain": [
              "array([1, 1, 1, 1, 1, 0, 0, 1, 0, 1, 0, 0, 1, 1, 1, 0, 0, 1, 0, 1, 1, 0,\n",
              "       0, 1, 0, 0, 0, 1, 0, 0, 0, 1, 0, 1, 0, 0, 1, 1, 1, 1, 0, 1, 1, 0,\n",
              "       0, 1, 0, 1, 1, 1, 0, 1, 0, 1, 1, 1, 0, 0, 0, 1, 0, 1, 1, 1, 1, 0,\n",
              "       0, 1, 1, 1, 0, 0, 1, 1, 1, 0, 1, 0, 0, 0, 0, 0, 1, 1, 0, 1, 1, 0,\n",
              "       0, 0, 1, 1, 1, 0, 0, 0, 1, 1, 0, 0, 0, 1, 1, 0, 0, 1, 0, 0, 0, 1,\n",
              "       1, 1, 0, 1, 1, 1, 1, 0, 0, 0, 1, 0, 1, 1, 0, 1, 1, 0, 1, 1, 0, 1,\n",
              "       1, 0, 0, 0, 1, 0, 0, 0, 1, 0, 0, 1, 1, 0, 1, 1, 1, 0, 1, 1, 0, 1,\n",
              "       1, 0, 0, 0, 0, 1, 1, 1, 1, 0, 0, 1, 0, 1, 1, 1, 0, 1, 1, 1, 0, 0,\n",
              "       0, 0, 1, 1, 1, 0, 1, 1, 0, 0, 1, 1, 1, 0, 1, 0, 0, 0, 0, 1, 1, 1,\n",
              "       0, 1])"
            ]
          },
          "metadata": {},
          "execution_count": 54
        }
      ]
    },
    {
      "cell_type": "code",
      "source": [
        "cm = confusion_matrix(y_test,y_pred)\n",
        "cm"
      ],
      "metadata": {
        "execution": {
          "iopub.status.busy": "2021-12-19T06:11:40.688556Z",
          "iopub.execute_input": "2021-12-19T06:11:40.688815Z",
          "iopub.status.idle": "2021-12-19T06:11:40.698063Z",
          "shell.execute_reply.started": "2021-12-19T06:11:40.688785Z",
          "shell.execute_reply": "2021-12-19T06:11:40.697132Z"
        },
        "trusted": true,
        "colab": {
          "base_uri": "https://localhost:8080/"
        },
        "id": "RV7q5kgX1sGc",
        "outputId": "491a5687-8468-4518-d8d8-3a8e086f6023"
      },
      "execution_count": null,
      "outputs": [
        {
          "output_type": "execute_result",
          "data": {
            "text/plain": [
              "array([[68, 23],\n",
              "       [26, 83]])"
            ]
          },
          "metadata": {},
          "execution_count": 55
        }
      ]
    },
    {
      "cell_type": "code",
      "source": [
        "plot_confusion_matrix(kn_classifier,x_test,y_test,cmap=\"Blues\",values_format=\".3g\")"
      ],
      "metadata": {
        "execution": {
          "iopub.status.busy": "2021-12-19T06:11:40.699547Z",
          "iopub.execute_input": "2021-12-19T06:11:40.699944Z",
          "iopub.status.idle": "2021-12-19T06:11:40.956803Z",
          "shell.execute_reply.started": "2021-12-19T06:11:40.699911Z",
          "shell.execute_reply": "2021-12-19T06:11:40.95579Z"
        },
        "trusted": true,
        "colab": {
          "base_uri": "https://localhost:8080/"
        },
        "id": "g4hKjtOO1sGc",
        "outputId": "546db5db-7faf-499c-98bf-99bc17275972"
      },
      "execution_count": null,
      "outputs": [
        {
          "output_type": "stream",
          "name": "stderr",
          "text": [
            "/usr/local/lib/python3.7/dist-packages/sklearn/utils/deprecation.py:87: FutureWarning: Function plot_confusion_matrix is deprecated; Function `plot_confusion_matrix` is deprecated in 1.0 and will be removed in 1.2. Use one of the class methods: ConfusionMatrixDisplay.from_predictions or ConfusionMatrixDisplay.from_estimator.\n",
            "  warnings.warn(msg, category=FutureWarning)\n"
          ]
        },
        {
          "output_type": "execute_result",
          "data": {
            "text/plain": [
              "<sklearn.metrics._plot.confusion_matrix.ConfusionMatrixDisplay at 0x7fab7ae8c890>"
            ]
          },
          "metadata": {},
          "execution_count": 56
        },
        {
          "output_type": "display_data",
          "data": {
            "image/png": "[encoded data removed]",
            "text/plain": [
              "<Figure size 432x288 with 2 Axes>"
            ]
          },
          "metadata": {
            "needs_background": "light"
          }
        }
      ]
    },
    {
      "cell_type": "code",
      "source": [
        "f1_score(y_test,y_pred)"
      ],
      "metadata": {
        "execution": {
          "iopub.status.busy": "2021-12-19T06:11:40.958215Z",
          "iopub.execute_input": "2021-12-19T06:11:40.958454Z",
          "iopub.status.idle": "2021-12-19T06:11:40.96656Z",
          "shell.execute_reply.started": "2021-12-19T06:11:40.958426Z",
          "shell.execute_reply": "2021-12-19T06:11:40.965745Z"
        },
        "trusted": true,
        "colab": {
          "base_uri": "https://localhost:8080/"
        },
        "id": "KoGY_NBF1sGc",
        "outputId": "15ee34cf-2aca-483f-9752-e419c1d8ec91"
      },
      "execution_count": null,
      "outputs": [
        {
          "output_type": "execute_result",
          "data": {
            "text/plain": [
              "0.772093023255814"
            ]
          },
          "metadata": {},
          "execution_count": 57
        }
      ]
    },
    {
      "cell_type": "code",
      "source": [
        "accuracy_score(y_test,y_pred)"
      ],
      "metadata": {
        "execution": {
          "iopub.status.busy": "2021-12-19T06:11:40.968105Z",
          "iopub.execute_input": "2021-12-19T06:11:40.968656Z",
          "iopub.status.idle": "2021-12-19T06:11:40.981832Z",
          "shell.execute_reply.started": "2021-12-19T06:11:40.968617Z",
          "shell.execute_reply": "2021-12-19T06:11:40.980981Z"
        },
        "trusted": true,
        "colab": {
          "base_uri": "https://localhost:8080/"
        },
        "id": "NrJg5M5e1sGc",
        "outputId": "51017320-116b-4fc9-a7c3-f0ecb61f8c8b"
      },
      "execution_count": null,
      "outputs": [
        {
          "output_type": "execute_result",
          "data": {
            "text/plain": [
              "0.755"
            ]
          },
          "metadata": {},
          "execution_count": 58
        }
      ]
    },
    {
      "cell_type": "code",
      "source": [
        "print(classification_report(y_test,y_pred))"
      ],
      "metadata": {
        "execution": {
          "iopub.status.busy": "2021-12-19T06:11:40.982847Z",
          "iopub.execute_input": "2021-12-19T06:11:40.983138Z",
          "iopub.status.idle": "2021-12-19T06:11:40.997286Z",
          "shell.execute_reply.started": "2021-12-19T06:11:40.983109Z",
          "shell.execute_reply": "2021-12-19T06:11:40.996476Z"
        },
        "trusted": true,
        "colab": {
          "base_uri": "https://localhost:8080/"
        },
        "id": "oF4AYUjZ1sGc",
        "outputId": "80f115a1-1ed5-4421-facb-9d69ce225aad"
      },
      "execution_count": null,
      "outputs": [
        {
          "output_type": "stream",
          "name": "stdout",
          "text": [
            "              precision    recall  f1-score   support\n",
            "\n",
            "           0       0.72      0.75      0.74        91\n",
            "           1       0.78      0.76      0.77       109\n",
            "\n",
            "    accuracy                           0.76       200\n",
            "   macro avg       0.75      0.75      0.75       200\n",
            "weighted avg       0.76      0.76      0.76       200\n",
            "\n"
          ]
        }
      ]
    },
    {
      "cell_type": "markdown",
      "source": [
        "# Decision Tree Classifier"
      ],
      "metadata": {
        "id": "sfATEt1r1sGc"
      }
    },
    {
      "cell_type": "code",
      "source": [
        "dt = DecisionTreeClassifier(criterion=\"entropy\", max_depth=3)"
      ],
      "metadata": {
        "execution": {
          "iopub.status.busy": "2021-12-19T06:11:40.999015Z",
          "iopub.execute_input": "2021-12-19T06:11:40.999546Z",
          "iopub.status.idle": "2021-12-19T06:11:41.006783Z",
          "shell.execute_reply.started": "2021-12-19T06:11:40.999498Z",
          "shell.execute_reply": "2021-12-19T06:11:41.005915Z"
        },
        "trusted": true,
        "id": "EltlwV-L1sGd"
      },
      "execution_count": null,
      "outputs": []
    },
    {
      "cell_type": "code",
      "source": [
        "dt.fit(x_train,y_train)"
      ],
      "metadata": {
        "execution": {
          "iopub.status.busy": "2021-12-19T06:11:41.007695Z",
          "iopub.execute_input": "2021-12-19T06:11:41.007917Z",
          "iopub.status.idle": "2021-12-19T06:11:41.025759Z",
          "shell.execute_reply.started": "2021-12-19T06:11:41.007886Z",
          "shell.execute_reply": "2021-12-19T06:11:41.024927Z"
        },
        "trusted": true,
        "colab": {
          "base_uri": "https://localhost:8080/"
        },
        "id": "6FDMMkKH1sGd",
        "outputId": "c504f0e2-c990-402a-e714-7c5f3a734330"
      },
      "execution_count": null,
      "outputs": [
        {
          "output_type": "execute_result",
          "data": {
            "text/plain": [
              "DecisionTreeClassifier(criterion='entropy', max_depth=3)"
            ]
          },
          "metadata": {},
          "execution_count": 61
        }
      ]
    },
    {
      "cell_type": "code",
      "source": [
        "y_pred = dt.predict(x_test)"
      ],
      "metadata": {
        "execution": {
          "iopub.status.busy": "2021-12-19T06:11:41.027313Z",
          "iopub.execute_input": "2021-12-19T06:11:41.02757Z",
          "iopub.status.idle": "2021-12-19T06:11:41.038853Z",
          "shell.execute_reply.started": "2021-12-19T06:11:41.027539Z",
          "shell.execute_reply": "2021-12-19T06:11:41.037917Z"
        },
        "trusted": true,
        "id": "Cmt9OhQs1sGd"
      },
      "execution_count": null,
      "outputs": []
    },
    {
      "cell_type": "code",
      "source": [
        "metrics.accuracy_score(y_test,y_pred)"
      ],
      "metadata": {
        "execution": {
          "iopub.status.busy": "2021-12-19T06:11:41.04007Z",
          "iopub.execute_input": "2021-12-19T06:11:41.040307Z",
          "iopub.status.idle": "2021-12-19T06:11:41.054532Z",
          "shell.execute_reply.started": "2021-12-19T06:11:41.040279Z",
          "shell.execute_reply": "2021-12-19T06:11:41.053494Z"
        },
        "trusted": true,
        "colab": {
          "base_uri": "https://localhost:8080/"
        },
        "id": "r5Ge5Fge1sGd",
        "outputId": "e2b25313-e06c-4036-818b-2f67c40814a9"
      },
      "execution_count": null,
      "outputs": [
        {
          "output_type": "execute_result",
          "data": {
            "text/plain": [
              "0.76"
            ]
          },
          "metadata": {},
          "execution_count": 63
        }
      ]
    },
    {
      "cell_type": "code",
      "source": [
        "plot_confusion_matrix(dt,x_test,y_test,cmap=\"Blues\",values_format=\".3g\")"
      ],
      "metadata": {
        "execution": {
          "iopub.status.busy": "2021-12-19T06:11:41.056156Z",
          "iopub.execute_input": "2021-12-19T06:11:41.056396Z",
          "iopub.status.idle": "2021-12-19T06:11:41.316919Z",
          "shell.execute_reply.started": "2021-12-19T06:11:41.056368Z",
          "shell.execute_reply": "2021-12-19T06:11:41.314903Z"
        },
        "trusted": true,
        "colab": {
          "base_uri": "https://localhost:8080/"
        },
        "id": "jSt_WDqm1sGd",
        "outputId": "cfc9457d-73c4-41e1-d188-3c9e2ab7a119"
      },
      "execution_count": null,
      "outputs": [
        {
          "output_type": "stream",
          "name": "stderr",
          "text": [
            "/usr/local/lib/python3.7/dist-packages/sklearn/utils/deprecation.py:87: FutureWarning: Function plot_confusion_matrix is deprecated; Function `plot_confusion_matrix` is deprecated in 1.0 and will be removed in 1.2. Use one of the class methods: ConfusionMatrixDisplay.from_predictions or ConfusionMatrixDisplay.from_estimator.\n",
            "  warnings.warn(msg, category=FutureWarning)\n"
          ]
        },
        {
          "output_type": "execute_result",
          "data": {
            "text/plain": [
              "<sklearn.metrics._plot.confusion_matrix.ConfusionMatrixDisplay at 0x7fab7a72b990>"
            ]
          },
          "metadata": {},
          "execution_count": 64
        },
        {
          "output_type": "display_data",
          "data": {
            "image/png": "[encoded data removed]",
            "text/plain": [
              "<Figure size 432x288 with 2 Axes>"
            ]
          },
          "metadata": {
            "needs_background": "light"
          }
        }
      ]
    },
    {
      "cell_type": "code",
      "source": [
        "print(classification_report(y_test,y_pred))"
      ],
      "metadata": {
        "execution": {
          "iopub.status.busy": "2021-12-19T06:11:41.318295Z",
          "iopub.execute_input": "2021-12-19T06:11:41.318628Z",
          "iopub.status.idle": "2021-12-19T06:11:41.329832Z",
          "shell.execute_reply.started": "2021-12-19T06:11:41.318584Z",
          "shell.execute_reply": "2021-12-19T06:11:41.328696Z"
        },
        "trusted": true,
        "colab": {
          "base_uri": "https://localhost:8080/"
        },
        "id": "JTyWm3Lt1sGd",
        "outputId": "cc701f82-0b03-481e-b99a-913f1f88dfdb"
      },
      "execution_count": null,
      "outputs": [
        {
          "output_type": "stream",
          "name": "stdout",
          "text": [
            "              precision    recall  f1-score   support\n",
            "\n",
            "           0       0.84      0.58      0.69        91\n",
            "           1       0.72      0.91      0.80       109\n",
            "\n",
            "    accuracy                           0.76       200\n",
            "   macro avg       0.78      0.75      0.75       200\n",
            "weighted avg       0.78      0.76      0.75       200\n",
            "\n"
          ]
        }
      ]
    },
    {
      "cell_type": "markdown",
      "source": [
        "# Random Forest Classifier"
      ],
      "metadata": {
        "id": "hVMX45DH1sGd"
      }
    },
    {
      "cell_type": "code",
      "source": [
        "ranfor = RandomForestClassifier(n_estimators=100,random_state=0,max_depth=3,criterion=\"gini\")"
      ],
      "metadata": {
        "execution": {
          "iopub.status.busy": "2021-12-19T06:11:41.331205Z",
          "iopub.execute_input": "2021-12-19T06:11:41.331487Z",
          "iopub.status.idle": "2021-12-19T06:11:41.339402Z",
          "shell.execute_reply.started": "2021-12-19T06:11:41.33145Z",
          "shell.execute_reply": "2021-12-19T06:11:41.338514Z"
        },
        "trusted": true,
        "id": "guvzwMbw1sGd"
      },
      "execution_count": null,
      "outputs": []
    },
    {
      "cell_type": "code",
      "source": [
        "ranfor.fit(x_train,y_train)\n"
      ],
      "metadata": {
        "execution": {
          "iopub.status.busy": "2021-12-19T06:11:41.340696Z",
          "iopub.execute_input": "2021-12-19T06:11:41.340937Z",
          "iopub.status.idle": "2021-12-19T06:11:41.563959Z",
          "shell.execute_reply.started": "2021-12-19T06:11:41.340908Z",
          "shell.execute_reply": "2021-12-19T06:11:41.563123Z"
        },
        "trusted": true,
        "colab": {
          "base_uri": "https://localhost:8080/"
        },
        "id": "MuC2rot51sGd",
        "outputId": "27459736-586d-47f6-e984-956bf7076fa0"
      },
      "execution_count": null,
      "outputs": [
        {
          "output_type": "execute_result",
          "data": {
            "text/plain": [
              "RandomForestClassifier(max_depth=3, random_state=0)"
            ]
          },
          "metadata": {},
          "execution_count": 67
        }
      ]
    },
    {
      "cell_type": "code",
      "source": [
        "y_pred = ranfor.predict(x_test)"
      ],
      "metadata": {
        "execution": {
          "iopub.status.busy": "2021-12-19T06:11:41.565218Z",
          "iopub.execute_input": "2021-12-19T06:11:41.565472Z",
          "iopub.status.idle": "2021-12-19T06:11:41.586495Z",
          "shell.execute_reply.started": "2021-12-19T06:11:41.565435Z",
          "shell.execute_reply": "2021-12-19T06:11:41.585529Z"
        },
        "trusted": true,
        "id": "4H8Xh0FM1sGd"
      },
      "execution_count": null,
      "outputs": []
    },
    {
      "cell_type": "code",
      "source": [
        "ranfor.score(x_train,y_train)"
      ],
      "metadata": {
        "execution": {
          "iopub.status.busy": "2021-12-19T06:11:41.587696Z",
          "iopub.execute_input": "2021-12-19T06:11:41.587937Z",
          "iopub.status.idle": "2021-12-19T06:11:41.610092Z",
          "shell.execute_reply.started": "2021-12-19T06:11:41.587906Z",
          "shell.execute_reply": "2021-12-19T06:11:41.609487Z"
        },
        "trusted": true,
        "colab": {
          "base_uri": "https://localhost:8080/"
        },
        "id": "R5uWiKgV1sGd",
        "outputId": "af13bc81-59f5-4fb8-e180-0656af275865"
      },
      "execution_count": null,
      "outputs": [
        {
          "output_type": "execute_result",
          "data": {
            "text/plain": [
              "0.8275"
            ]
          },
          "metadata": {},
          "execution_count": 69
        }
      ]
    },
    {
      "cell_type": "code",
      "source": [
        "cm = confusion_matrix(y_test,y_pred)\n",
        "cm"
      ],
      "metadata": {
        "execution": {
          "iopub.status.busy": "2021-12-19T06:11:41.610918Z",
          "iopub.execute_input": "2021-12-19T06:11:41.611115Z",
          "iopub.status.idle": "2021-12-19T06:11:41.618387Z",
          "shell.execute_reply.started": "2021-12-19T06:11:41.61109Z",
          "shell.execute_reply": "2021-12-19T06:11:41.617515Z"
        },
        "trusted": true,
        "colab": {
          "base_uri": "https://localhost:8080/"
        },
        "id": "BNmJaAD21sGe",
        "outputId": "891ff522-1a38-4a30-b58a-39e57eb367f0"
      },
      "execution_count": null,
      "outputs": [
        {
          "output_type": "execute_result",
          "data": {
            "text/plain": [
              "array([[69, 22],\n",
              "       [23, 86]])"
            ]
          },
          "metadata": {},
          "execution_count": 70
        }
      ]
    },
    {
      "cell_type": "code",
      "source": [
        "plot_confusion_matrix(ranfor,x_test,y_test,cmap=\"Blues\",values_format=\".3g\")"
      ],
      "metadata": {
        "execution": {
          "iopub.status.busy": "2021-12-19T06:11:41.619849Z",
          "iopub.execute_input": "2021-12-19T06:11:41.620086Z",
          "iopub.status.idle": "2021-12-19T06:11:41.872848Z",
          "shell.execute_reply.started": "2021-12-19T06:11:41.620057Z",
          "shell.execute_reply": "2021-12-19T06:11:41.872181Z"
        },
        "trusted": true,
        "colab": {
          "base_uri": "https://localhost:8080/",
          "height": 353
        },
        "id": "BnUCJC5R1sGe",
        "outputId": "aa550f26-b4b4-4dc8-9c85-70ad0693e8fd"
      },
      "execution_count": null,
      "outputs": [
        {
          "output_type": "stream",
          "name": "stderr",
          "text": [
            "/usr/local/lib/python3.7/dist-packages/sklearn/utils/deprecation.py:87: FutureWarning: Function plot_confusion_matrix is deprecated; Function `plot_confusion_matrix` is deprecated in 1.0 and will be removed in 1.2. Use one of the class methods: ConfusionMatrixDisplay.from_predictions or ConfusionMatrixDisplay.from_estimator.\n",
            "  warnings.warn(msg, category=FutureWarning)\n"
          ]
        },
        {
          "output_type": "execute_result",
          "data": {
            "text/plain": [
              "<sklearn.metrics._plot.confusion_matrix.ConfusionMatrixDisplay at 0x7fab7a8a9450>"
            ]
          },
          "metadata": {},
          "execution_count": 71
        },
        {
          "output_type": "display_data",
          "data": {
            "image/png": "[encoded data removed]",
            "text/plain": [
              "<Figure size 432x288 with 2 Axes>"
            ]
          },
          "metadata": {
            "needs_background": "light"
          }
        }
      ]
    },
    {
      "cell_type": "code",
      "source": [
        "print(classification_report(y_test,y_pred))"
      ],
      "metadata": {
        "execution": {
          "iopub.status.busy": "2021-12-19T06:11:41.874038Z",
          "iopub.execute_input": "2021-12-19T06:11:41.874365Z",
          "iopub.status.idle": "2021-12-19T06:11:41.883229Z",
          "shell.execute_reply.started": "2021-12-19T06:11:41.874337Z",
          "shell.execute_reply": "2021-12-19T06:11:41.882259Z"
        },
        "trusted": true,
        "colab": {
          "base_uri": "https://localhost:8080/"
        },
        "id": "FnDYya4s1sGe",
        "outputId": "1d354483-ef4c-4955-ad6d-137587cc172b"
      },
      "execution_count": null,
      "outputs": [
        {
          "output_type": "stream",
          "name": "stdout",
          "text": [
            "              precision    recall  f1-score   support\n",
            "\n",
            "           0       0.75      0.76      0.75        91\n",
            "           1       0.80      0.79      0.79       109\n",
            "\n",
            "    accuracy                           0.78       200\n",
            "   macro avg       0.77      0.77      0.77       200\n",
            "weighted avg       0.78      0.78      0.78       200\n",
            "\n"
          ]
        }
      ]
    },
    {
      "cell_type": "markdown",
      "source": [
        "## Importing the Dependencies"
      ],
      "metadata": {
        "id": "OApQKYO_CNxo"
      }
    },
    {
      "cell_type": "code",
      "source": [
        "from sklearn import svm\n",
        "file['Outcome'].value_counts()\n"
      ],
      "metadata": {
        "colab": {
          "base_uri": "https://localhost:8080/"
        },
        "id": "FwQPJgMNCTQG",
        "outputId": "230ec2c0-8532-49f3-fbd1-4d64cc9d5813"
      },
      "execution_count": null,
      "outputs": [
        {
          "output_type": "execute_result",
          "data": {
            "text/plain": [
              "0    500\n",
              "1    268\n",
              "Name: Outcome, dtype: int64"
            ]
          },
          "metadata": {},
          "execution_count": 104
        }
      ]
    },
    {
      "cell_type": "code",
      "source": [
        "file.groupby('Outcome').mean()"
      ],
      "metadata": {
        "colab": {
          "base_uri": "https://localhost:8080/",
          "height": 207
        },
        "id": "FBL98HDfCi_z",
        "outputId": "ec5a0544-8df1-4b28-f587-26ec2ce1774a"
      },
      "execution_count": null,
      "outputs": [
        {
          "output_type": "execute_result",
          "data": {
            "text/html": [
              "\n",
              "  <div id=\"df-68bc837e-403d-4cf5-81ab-09b2827845ba\">\n",
              "    <div class=\"colab-df-container\">\n",
              "      <div>\n",
              "<style scoped>\n",
              "    .dataframe tbody tr th:only-of-type {\n",
              "        vertical-align: middle;\n",
              "    }\n",
              "\n",
              "    .dataframe tbody tr th {\n",
              "        vertical-align: top;\n",
              "    }\n",
              "\n",
              "    .dataframe thead th {\n",
              "        text-align: right;\n",
              "    }\n",
              "</style>\n",
              "<table border=\"1\" class=\"dataframe\">\n",
              "  <thead>\n",
              "    <tr style=\"text-align: right;\">\n",
              "      <th></th>\n",
              "      <th>Pregnancies</th>\n",
              "      <th>Glucose</th>\n",
              "      <th>BloodPressure</th>\n",
              "      <th>SkinThickness</th>\n",
              "      <th>Insulin</th>\n",
              "      <th>BMI</th>\n",
              "      <th>DiabetesPedigreeFunction</th>\n",
              "      <th>Age</th>\n",
              "    </tr>\n",
              "    <tr>\n",
              "      <th>Outcome</th>\n",
              "      <th></th>\n",
              "      <th></th>\n",
              "      <th></th>\n",
              "      <th></th>\n",
              "      <th></th>\n",
              "      <th></th>\n",
              "      <th></th>\n",
              "      <th></th>\n",
              "    </tr>\n",
              "  </thead>\n",
              "  <tbody>\n",
              "    <tr>\n",
              "      <th>0</th>\n",
              "      <td>3.298000</td>\n",
              "      <td>109.980000</td>\n",
              "      <td>68.184000</td>\n",
              "      <td>19.664000</td>\n",
              "      <td>68.792000</td>\n",
              "      <td>30.304200</td>\n",
              "      <td>0.429734</td>\n",
              "      <td>31.190000</td>\n",
              "    </tr>\n",
              "    <tr>\n",
              "      <th>1</th>\n",
              "      <td>4.865672</td>\n",
              "      <td>141.257463</td>\n",
              "      <td>70.824627</td>\n",
              "      <td>22.164179</td>\n",
              "      <td>100.335821</td>\n",
              "      <td>35.142537</td>\n",
              "      <td>0.550500</td>\n",
              "      <td>37.067164</td>\n",
              "    </tr>\n",
              "  </tbody>\n",
              "</table>\n",
              "</div>\n",
              "      <button class=\"colab-df-convert\" onclick=\"convertToInteractive('df-68bc837e-403d-4cf5-81ab-09b2827845ba')\"\n",
              "              title=\"Convert this dataframe to an interactive table.\"\n",
              "              style=\"display:none;\">\n",
              "        \n",
              "  <svg xmlns=\"http://www.w3.org/2000/svg\" height=\"24px\"viewBox=\"0 0 24 24\"\n",
              "       width=\"24px\">\n",
              "    <path d=\"M0 0h24v24H0V0z\" fill=\"none\"/>\n",
              "    <path d=\"M18.56 5.44l.94 2.06.94-2.06 2.06-.94-2.06-.94-.94-2.06-.94 2.06-2.06.94zm-11 1L8.5 8.5l.94-2.06 2.06-.94-2.06-.94L8.5 2.5l-.94 2.06-2.06.94zm10 10l.94 2.06.94-2.06 2.06-.94-2.06-.94-.94-2.06-.94 2.06-2.06.94z\"/><path d=\"M17.41 7.96l-1.37-1.37c-.4-.4-.92-.59-1.43-.59-.52 0-1.04.2-1.43.59L10.3 9.45l-7.72 7.72c-.78.78-.78 2.05 0 2.83L4 21.41c.39.39.9.59 1.41.59.51 0 1.02-.2 1.41-.59l7.78-7.78 2.81-2.81c.8-.78.8-2.07 0-2.86zM5.41 20L4 18.59l7.72-7.72 1.47 1.35L5.41 20z\"/>\n",
              "  </svg>\n",
              "      </button>\n",
              "      \n",
              "  <style>\n",
              "    .colab-df-container {\n",
              "      display:flex;\n",
              "      flex-wrap:wrap;\n",
              "      gap: 12px;\n",
              "    }\n",
              "\n",
              "    .colab-df-convert {\n",
              "      background-color: #E8F0FE;\n",
              "      border: none;\n",
              "      border-radius: 50%;\n",
              "      cursor: pointer;\n",
              "      display: none;\n",
              "      fill: #1967D2;\n",
              "      height: 32px;\n",
              "      padding: 0 0 0 0;\n",
              "      width: 32px;\n",
              "    }\n",
              "\n",
              "    .colab-df-convert:hover {\n",
              "      background-color: #E2EBFA;\n",
              "      box-shadow: 0px 1px 2px rgba(60, 64, 67, 0.3), 0px 1px 3px 1px rgba(60, 64, 67, 0.15);\n",
              "      fill: #174EA6;\n",
              "    }\n",
              "\n",
              "    [theme=dark] .colab-df-convert {\n",
              "      background-color: #3B4455;\n",
              "      fill: #D2E3FC;\n",
              "    }\n",
              "\n",
              "    [theme=dark] .colab-df-convert:hover {\n",
              "      background-color: #434B5C;\n",
              "      box-shadow: 0px 1px 3px 1px rgba(0, 0, 0, 0.15);\n",
              "      filter: drop-shadow(0px 1px 2px rgba(0, 0, 0, 0.3));\n",
              "      fill: #FFFFFF;\n",
              "    }\n",
              "  </style>\n",
              "\n",
              "      <script>\n",
              "        const buttonEl =\n",
              "          document.querySelector('#df-68bc837e-403d-4cf5-81ab-09b2827845ba button.colab-df-convert');\n",
              "        buttonEl.style.display =\n",
              "          google.colab.kernel.accessAllowed ? 'block' : 'none';\n",
              "\n",
              "        async function convertToInteractive(key) {\n",
              "          const element = document.querySelector('#df-68bc837e-403d-4cf5-81ab-09b2827845ba');\n",
              "          const dataTable =\n",
              "            await google.colab.kernel.invokeFunction('convertToInteractive',\n",
              "                                                     [key], {});\n",
              "          if (!dataTable) return;\n",
              "\n",
              "          const docLinkHtml = 'Like what you see? Visit the ' +\n",
              "            '<a target=\"_blank\" href=https://colab.research.google.com/notebooks/data_table.ipynb>data table notebook</a>'\n",
              "            + ' to learn more about interactive tables.';\n",
              "          element.innerHTML = '';\n",
              "          dataTable['output_type'] = 'display_data';\n",
              "          await google.colab.output.renderOutput(dataTable, element);\n",
              "          const docLink = document.createElement('div');\n",
              "          docLink.innerHTML = docLinkHtml;\n",
              "          element.appendChild(docLink);\n",
              "        }\n",
              "      </script>\n",
              "    </div>\n",
              "  </div>\n",
              "  "
            ],
            "text/plain": [
              "         Pregnancies     Glucose  ...  DiabetesPedigreeFunction        Age\n",
              "Outcome                           ...                                     \n",
              "0           3.298000  109.980000  ...                  0.429734  31.190000\n",
              "1           4.865672  141.257463  ...                  0.550500  37.067164\n",
              "\n",
              "[2 rows x 8 columns]"
            ]
          },
          "metadata": {},
          "execution_count": 105
        }
      ]
    },
    {
      "cell_type": "code",
      "source": [
        "# separating the data and labels\n",
        "X = file.drop(columns = 'Outcome', axis=1)\n",
        "Y = file['Outcome']"
      ],
      "metadata": {
        "id": "m5J_mgSEC0cN"
      },
      "execution_count": null,
      "outputs": []
    },
    {
      "cell_type": "code",
      "source": [
        "print(X)"
      ],
      "metadata": {
        "colab": {
          "base_uri": "https://localhost:8080/"
        },
        "id": "4IkVpTB1DNre",
        "outputId": "e4544c75-b665-436b-efd9-bb44df1d9c1c"
      },
      "execution_count": null,
      "outputs": [
        {
          "output_type": "stream",
          "name": "stdout",
          "text": [
            "     Pregnancies  Glucose  BloodPressure  ...   BMI  DiabetesPedigreeFunction  Age\n",
            "0              6      148             72  ...  33.6                     0.627   50\n",
            "1              1       85             66  ...  26.6                     0.351   31\n",
            "2              8      183             64  ...  23.3                     0.672   32\n",
            "3              1       89             66  ...  28.1                     0.167   21\n",
            "4              0      137             40  ...  43.1                     2.288   33\n",
            "..           ...      ...            ...  ...   ...                       ...  ...\n",
            "763           10      101             76  ...  32.9                     0.171   63\n",
            "764            2      122             70  ...  36.8                     0.340   27\n",
            "765            5      121             72  ...  26.2                     0.245   30\n",
            "766            1      126             60  ...  30.1                     0.349   47\n",
            "767            1       93             70  ...  30.4                     0.315   23\n",
            "\n",
            "[768 rows x 8 columns]\n"
          ]
        }
      ]
    },
    {
      "cell_type": "code",
      "source": [
        "print(y)"
      ],
      "metadata": {
        "id": "bMm9F-HXDXzd"
      },
      "execution_count": null,
      "outputs": []
    },
    {
      "cell_type": "markdown",
      "source": [
        "## Data Standardization"
      ],
      "metadata": {
        "id": "ro4vGfyQDo9q"
      }
    },
    {
      "cell_type": "code",
      "source": [
        "scaler = StandardScaler()"
      ],
      "metadata": {
        "id": "aO02-4HjDtZX"
      },
      "execution_count": null,
      "outputs": []
    },
    {
      "cell_type": "code",
      "source": [
        "scaler.fit(X)"
      ],
      "metadata": {
        "colab": {
          "base_uri": "https://localhost:8080/"
        },
        "id": "tCOPXboBDxM4",
        "outputId": "6e4f1a50-3405-48c9-b4eb-b366e145968c"
      },
      "execution_count": null,
      "outputs": [
        {
          "output_type": "execute_result",
          "data": {
            "text/plain": [
              "StandardScaler()"
            ]
          },
          "metadata": {},
          "execution_count": 111
        }
      ]
    },
    {
      "cell_type": "code",
      "source": [
        "standardized_data = scaler.transform(X)"
      ],
      "metadata": {
        "id": "49O0D1DBDzRu"
      },
      "execution_count": null,
      "outputs": []
    },
    {
      "cell_type": "code",
      "source": [
        "print(standardized_data)"
      ],
      "metadata": {
        "colab": {
          "base_uri": "https://localhost:8080/"
        },
        "id": "77UL7JLtD1PE",
        "outputId": "03df4bf6-786a-45ff-d183-167acaeb1f03"
      },
      "execution_count": null,
      "outputs": [
        {
          "output_type": "stream",
          "name": "stdout",
          "text": [
            "[[ 0.63994726  0.84832379  0.14964075 ...  0.20401277  0.46849198\n",
            "   1.4259954 ]\n",
            " [-0.84488505 -1.12339636 -0.16054575 ... -0.68442195 -0.36506078\n",
            "  -0.19067191]\n",
            " [ 1.23388019  1.94372388 -0.26394125 ... -1.10325546  0.60439732\n",
            "  -0.10558415]\n",
            " ...\n",
            " [ 0.3429808   0.00330087  0.14964075 ... -0.73518964 -0.68519336\n",
            "  -0.27575966]\n",
            " [-0.84488505  0.1597866  -0.47073225 ... -0.24020459 -0.37110101\n",
            "   1.17073215]\n",
            " [-0.84488505 -0.8730192   0.04624525 ... -0.20212881 -0.47378505\n",
            "  -0.87137393]]\n"
          ]
        }
      ]
    },
    {
      "cell_type": "code",
      "source": [
        "X = standardized_data\n",
        "Y = file['Outcome']"
      ],
      "metadata": {
        "id": "NqDjLGFBD3Uy"
      },
      "execution_count": null,
      "outputs": []
    },
    {
      "cell_type": "code",
      "source": [
        "print(x)\n",
        "print(y)"
      ],
      "metadata": {
        "colab": {
          "base_uri": "https://localhost:8080/"
        },
        "id": "JEDQENjvEBQa",
        "outputId": "9cc4b2d7-332b-4394-b36f-895a335c616b"
      },
      "execution_count": null,
      "outputs": [
        {
          "output_type": "stream",
          "name": "stdout",
          "text": [
            "[[ 0.59639083  0.66809666  0.1309253  ...  0.0998244   0.41248201\n",
            "   1.41695009]\n",
            " [-0.89458624 -1.2639708  -0.17920175 ... -0.83053877 -0.42901637\n",
            "  -0.25918313]\n",
            " [ 1.19278166  1.74146748 -0.28257743 ... -1.26913855  0.54968283\n",
            "  -0.17096559]\n",
            " ...\n",
            " [ 1.49097707 -0.98796116  0.69949156 ...  0.30276359  1.22509108\n",
            "   1.68160271]\n",
            " [ 0.29819541  1.25078367 -0.23088959 ...  0.00489722 -1.08194144\n",
            "   0.62299225]\n",
            " [ 0.59639083 -0.71195153  0.18261314 ...  0.7742387   1.21748366\n",
            "   1.15229748]]\n",
            "0      1\n",
            "1      0\n",
            "2      1\n",
            "3      0\n",
            "4      1\n",
            "      ..\n",
            "763    0\n",
            "764    0\n",
            "765    0\n",
            "766    1\n",
            "767    0\n",
            "Name: Outcome, Length: 768, dtype: int64\n"
          ]
        }
      ]
    },
    {
      "cell_type": "markdown",
      "source": [
        "## Train Test Split"
      ],
      "metadata": {
        "id": "403_7-cuEij0"
      }
    },
    {
      "cell_type": "code",
      "source": [
        "X_train, X_test, Y_train, Y_test = train_test_split(X,Y, test_size = 0.2, stratify=Y, random_state=2)\n",
        "\n",
        "print(X.shape, X_train.shape, X_test.shape)"
      ],
      "metadata": {
        "colab": {
          "base_uri": "https://localhost:8080/"
        },
        "id": "xLAO141LEbrh",
        "outputId": "b86884ae-6bb4-44b1-c443-be1720fb8890"
      },
      "execution_count": null,
      "outputs": [
        {
          "output_type": "stream",
          "name": "stdout",
          "text": [
            "(768, 8) (614, 8) (154, 8)\n"
          ]
        }
      ]
    },
    {
      "cell_type": "markdown",
      "source": [
        "# Training the Model\n"
      ],
      "metadata": {
        "id": "ufRk5UMsEGf3"
      }
    },
    {
      "cell_type": "code",
      "source": [
        "classifier = svm.SVC(kernel='linear')"
      ],
      "metadata": {
        "id": "MAkfLsi2EUIk"
      },
      "execution_count": null,
      "outputs": []
    },
    {
      "cell_type": "code",
      "source": [
        "#training the support vector Machine Classifier\n",
        "classifier.fit(X_train, Y_train)"
      ],
      "metadata": {
        "colab": {
          "base_uri": "https://localhost:8080/"
        },
        "id": "CoyCZwx7E2e1",
        "outputId": "7767351b-e334-45bd-89ed-80db9f4aa3a0"
      },
      "execution_count": null,
      "outputs": [
        {
          "output_type": "execute_result",
          "data": {
            "text/plain": [
              "SVC(kernel='linear')"
            ]
          },
          "metadata": {},
          "execution_count": 119
        }
      ]
    },
    {
      "cell_type": "markdown",
      "source": [
        "Model Evaluation\n",
        "\n",
        "accuracy Score"
      ],
      "metadata": {
        "id": "kFAnFd6FE-lv"
      }
    },
    {
      "cell_type": "code",
      "source": [
        "# accuracy score on the training data\n",
        "X_train_prediction = classifier.predict(X_train)\n",
        "training_data_accuracy = accuracy_score(X_train_prediction, Y_train)"
      ],
      "metadata": {
        "id": "dhqOj-GKFHSc"
      },
      "execution_count": null,
      "outputs": []
    },
    {
      "cell_type": "code",
      "source": [
        "print('Accuracy score of the training data : ', training_data_accuracy)"
      ],
      "metadata": {
        "colab": {
          "base_uri": "https://localhost:8080/"
        },
        "id": "iMU0_KlgFPFv",
        "outputId": "1732556b-e2c0-4229-fef0-293e1e4e2804"
      },
      "execution_count": null,
      "outputs": [
        {
          "output_type": "stream",
          "name": "stdout",
          "text": [
            "Accuracy score of the training data :  0.7866449511400652\n"
          ]
        }
      ]
    },
    {
      "cell_type": "code",
      "source": [
        "# accuracy score on the test data\n",
        "X_test_prediction = classifier.predict(X_test)\n",
        "test_data_accuracy = accuracy_score(X_test_prediction, Y_test)"
      ],
      "metadata": {
        "id": "PYNp5XyKFQRm"
      },
      "execution_count": null,
      "outputs": []
    },
    {
      "cell_type": "code",
      "source": [
        "print('Accuracy score of the test data : ', test_data_accuracy)"
      ],
      "metadata": {
        "colab": {
          "base_uri": "https://localhost:8080/"
        },
        "id": "hoay0rbPFUDU",
        "outputId": "e4f98f28-aad8-41f3-b43b-f01d0111f769"
      },
      "execution_count": null,
      "outputs": [
        {
          "output_type": "stream",
          "name": "stdout",
          "text": [
            "Accuracy score of the test data :  0.7727272727272727\n"
          ]
        }
      ]
    },
    {
      "cell_type": "markdown",
      "source": [
        "## Making a Predictive System"
      ],
      "metadata": {
        "id": "8j1ARv5oFaTi"
      }
    },
    {
      "cell_type": "code",
      "source": [
        "input_data = (5,166,72,19,175,25.8,0.587,51)\n",
        "\n",
        "# changing the input_data to numpy array\n",
        "input_data_as_numpy_array = np.asarray(input_data)\n",
        "\n",
        "# reshape the array as we are predicting for one instance\n",
        "input_data_reshaped = input_data_as_numpy_array.reshape(1,-1)\n",
        "\n",
        "# standardize the input data\n",
        "std_data = scaler.transform(input_data_reshaped)\n",
        "print(std_data)\n",
        "\n",
        "prediction = classifier.predict(std_data)\n",
        "print(prediction)\n",
        "\n",
        "if (prediction[0] == 0):\n",
        "  print('The person is not diabetic')\n",
        "else:\n",
        "  print('The person is diabetic')"
      ],
      "metadata": {
        "colab": {
          "base_uri": "https://localhost:8080/"
        },
        "id": "-mJgx9njFgSi",
        "outputId": "b01d6384-5557-40e5-ac1a-616a22d9d0e9"
      },
      "execution_count": null,
      "outputs": [
        {
          "output_type": "stream",
          "name": "stdout",
          "text": [
            "[[ 0.3429808   1.41167241  0.14964075 -0.09637905  0.82661621 -0.78595734\n",
            "   0.34768723  1.51108316]]\n",
            "[1]\n",
            "The person is diabetic\n"
          ]
        },
        {
          "output_type": "stream",
          "name": "stderr",
          "text": [
            "/usr/local/lib/python3.7/dist-packages/sklearn/base.py:446: UserWarning: X does not have valid feature names, but StandardScaler was fitted with feature names\n",
            "  \"X does not have valid feature names, but\"\n"
          ]
        }
      ]
    },
    {
      "cell_type": "code",
      "source": [
        ""
      ],
      "metadata": {
        "id": "1QHi1T5uFkEN"
      },
      "execution_count": null,
      "outputs": []
    }
  ]
}